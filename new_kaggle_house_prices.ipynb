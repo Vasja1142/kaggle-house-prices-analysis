{
 "cells": [
  {
   "cell_type": "markdown",
   "id": "3e9bc639",
   "metadata": {},
   "source": [
    "### Ячейка 1: Импорты и глобальные настройки\n",
    "\n",
    "Собираем все необходимое в одном месте: библиотеки, константы и настройки для графиков."
   ]
  },
  {
   "cell_type": "code",
   "execution_count": 82,
   "id": "c136fc41",
   "metadata": {},
   "outputs": [
    {
     "name": "stdout",
     "output_type": "stream",
     "text": [
      "Все библиотеки импортированы.\n",
      "Обучение будет производиться на устройстве: cuda\n"
     ]
    }
   ],
   "source": [
    "# --- Системные и основные библиотеки ---\n",
    "import os\n",
    "import warnings\n",
    "import pandas as pd\n",
    "import numpy as np\n",
    "\n",
    "# --- Визуализация ---\n",
    "import matplotlib.pyplot as plt\n",
    "import seaborn as sns\n",
    "from pylab import rcParams\n",
    "\n",
    "# --- Машинное обучение (Scikit-learn) ---\n",
    "from sklearn.model_selection import train_test_split\n",
    "\n",
    "# --- Машинное обучение (PyTorch) ---\n",
    "import torch\n",
    "import torch.nn as nn\n",
    "from torch.utils.data import Dataset, DataLoader\n",
    "from torch.optim.lr_scheduler import ReduceLROnPlateau\n",
    "\n",
    "# --- Игнорируем предупреждения для чистоты вывода ---\n",
    "warnings.filterwarnings('ignore')\n",
    "\n",
    "# --- Константы ---\n",
    "DATA_PATH = \"data\"\n",
    "FILE_TRAIN = os.path.join(DATA_PATH, \"train.csv\")\n",
    "FILE_TEST = os.path.join(DATA_PATH, \"test.csv\")\n",
    "SUBMISSION_FILE = 'submission_house_prices.csv'\n",
    "DEVICE = torch.device(\"cuda\" if torch.cuda.is_available() else \"cpu\")\n",
    "\n",
    "# --- Настройки для визуализации ---\n",
    "plt.style.use('ggplot')\n",
    "rcParams['figure.figsize'] = 12, 8\n",
    "\n",
    "print(f\"Все библиотеки импортированы.\")\n",
    "print(f\"Обучение будет производиться на устройстве: {DEVICE}\")"
   ]
  },
  {
   "cell_type": "markdown",
   "id": "92d74704",
   "metadata": {},
   "source": [
    "### Ячейка 2: Загрузка данных\n",
    "\n",
    "Загружаем данные и сразу создаем копию тестового набора для будущего файла с предсказаниями."
   ]
  },
  {
   "cell_type": "code",
   "execution_count": 83,
   "id": "9ca0c8f1",
   "metadata": {},
   "outputs": [
    {
     "name": "stdout",
     "output_type": "stream",
     "text": [
      "Данные успешно загружены.\n",
      "Размер обучающего набора (train): (1460, 81)\n",
      "Размер тестового набора (test):   (1459, 80)\n"
     ]
    }
   ],
   "source": [
    "# Загрузка данных\n",
    "try:\n",
    "    df_train = pd.read_csv(FILE_TRAIN)\n",
    "    df_test = pd.read_csv(FILE_TEST)\n",
    "    \n",
    "    # Сохраняем оригинальный тестовый набор для финального файла\n",
    "    # Он понадобится нам для извлечения Id\n",
    "    df_test_original = df_test.copy()\n",
    "\n",
    "    print(\"Данные успешно загружены.\")\n",
    "    print(f\"Размер обучающего набора (train): {df_train.shape}\")\n",
    "    print(f\"Размер тестового набора (test):   {df_test.shape}\")\n",
    "    \n",
    "except FileNotFoundError:\n",
    "    print(f\"Ошибка: Файлы не найдены в директории '{DATA_PATH}'. Убедитесь, что путь указан верно.\")"
   ]
  },
  {
   "cell_type": "markdown",
   "id": "7a480df2",
   "metadata": {},
   "source": [
    "### Ячейка 3: Стратегия обработки данных (Feature Engineering)\n",
    "\n",
    "На этом этапе мы превращаем \"сырые\" данные в качественные признаки для нашей модели. Ваш анализ был очень точным, и мы реализуем его ключевые идеи:\n",
    "\n",
    "1.  **Заполнение пропусков:** Простые числовые пропуски (например, площадь) заполним нулями, предполагая, что пропуск означает отсутствие данного элемента (нет гаража — нет площади).\n",
    "2.  **Преобразование порядковых признаков:** Категории, имеющие четкий порядок (например, качество отделки от \"Плохо\" до \"Отлично\"), переведем в числа (от 1 до 5). Это позволит модели понять их иерархию.\n",
    "3.  **Создание новых признаков (Feature Engineering):** Извлечем максимум информации из сложных столбцов. Например:\n",
    "    *   Из `HouseStyle` создадим признаки `Количество этажей` и `Тип отделки`.\n",
    "    *   `Condition1` и `Condition2` объединим в признаки `Близость к дороге`, `Близость к Ж/Д` и т.д.\n",
    "    *   `Utilities` (коммуникации) разобьем на бинарные флаги: `Есть газ`, `Есть вода` и т.д.\n",
    "4.  **Кодирование номинальных признаков:** Категории, не имеющие порядка (например, `Район`), преобразуем с помощью **One-Hot Encoding**. Это создаст новые бинарные столбцы для каждой категории.\n",
    "5.  **Нормализация дат:** Признаки, связанные с годом (`YearBuilt`, `YrSold`), приведем к единому формату — \"сколько лет/месяцев прошло до определенной даты\". Это сделает их более понятными для модели.\n",
    "\n",
    "Этот комплексный подход позволит нам подготовить данные наилучшим образом."
   ]
  },
  {
   "cell_type": "markdown",
   "id": "343b6bc5",
   "metadata": {},
   "source": [
    "### Ячейка 4: Функции-помощники для обработки признаков\n",
    "\n",
    "Чтобы сделать основной код чище, мы вынесем всю логику преобразований в отдельные функции. Это также позволит легко переиспользовать их.\n"
   ]
  },
  {
   "cell_type": "code",
   "execution_count": 84,
   "id": "1fb7214b",
   "metadata": {},
   "outputs": [
    {
     "name": "stdout",
     "output_type": "stream",
     "text": [
      "Шаг 1: Выполнение базовой предобработки...\n",
      "Базовая предобработка завершена.\n"
     ]
    }
   ],
   "source": [
    "print(\"Шаг 1: Выполнение базовой предобработки...\")\n",
    "\n",
    "# Создаем рабочие копии датафреймов\n",
    "df_train_proc = df_train.copy()\n",
    "df_test_proc = df_test.copy()\n",
    "\n",
    "# --- Заполнение пропущенных числовых значений нулями (из блока 3) ---\n",
    "numeric_cols_to_fill = [\n",
    "    'LotFrontage', 'MasVnrArea', 'BsmtFinSF1', 'BsmtFinSF2', \n",
    "    'TotalBsmtSF', 'BsmtUnfSF', 'BsmtFullBath', 'BsmtHalfBath', \n",
    "    'GarageCars', 'GarageArea'\n",
    "]\n",
    "for col in numeric_cols_to_fill:\n",
    "    if col in df_train_proc.columns:\n",
    "        df_train_proc[col].fillna(0, inplace=True)\n",
    "    if col in df_test_proc.columns:\n",
    "        df_test_proc[col].fillna(0, inplace=True)\n",
    "\n",
    "# --- Преобразование порядковых признаков в числовые (из блоков 4.2 и 4.3) ---\n",
    "ordinal_maps = {\n",
    "    'ExterQual':  {'Ex': 5, 'Gd': 4, 'TA': 3, 'Fa': 2, 'Po': 1}, 'ExterCond':  {'Ex': 5, 'Gd': 4, 'TA': 3, 'Fa': 2, 'Po': 1},\n",
    "    'BsmtQual':   {'Ex': 5, 'Gd': 4, 'TA': 3, 'Fa': 2, 'Po': 1}, 'BsmtCond':   {'Ex': 5, 'Gd': 4, 'TA': 3, 'Fa': 2, 'Po': 1},\n",
    "    'HeatingQC':  {'Ex': 5, 'Gd': 4, 'TA': 3, 'Fa': 2, 'Po': 1}, 'KitchenQual':{'Ex': 5, 'Gd': 4, 'TA': 3, 'Fa': 2, 'Po': 1},\n",
    "    'FireplaceQu':{'Ex': 5, 'Gd': 4, 'TA': 3, 'Fa': 2, 'Po': 1}, 'GarageQual': {'Ex': 5, 'Gd': 4, 'TA': 3, 'Fa': 2, 'Po': 1},\n",
    "    'GarageCond': {'Ex': 5, 'Gd': 4, 'TA': 3, 'Fa': 2, 'Po': 1}, 'PoolQC':     {'Ex': 5, 'Gd': 4, 'TA': 3, 'Fa': 2, 'Po': 1},\n",
    "    'BsmtExposure': {'Gd': 3, 'Av': 2, 'Mn': 1, 'No': 0},\n",
    "    'Functional': {'Typ': 0, 'Min1': 1, 'Min2': 2, 'Mod': 3, 'Maj1': 4, 'Maj2': 5, 'Sev': 6, 'Sal': 7},\n",
    "    'LotShape':   {'Reg': 0, 'IR1': 1, 'IR2': 2, 'IR3': 3}, 'LandSlope':  {'Gtl': 0, 'Mod': 1, 'Sev': 2},\n",
    "    'GarageFinish': {'Fin': 3, 'RFn': 2, 'Unf': 1}, 'PavedDrive': {'Y': 2, 'P': 1, 'N': 0}\n",
    "}\n",
    "for col, mapping in ordinal_maps.items():\n",
    "    if col in df_train_proc.columns:\n",
    "        df_train_proc[col] = df_train_proc[col].map(mapping).fillna(0).astype(int)\n",
    "    if col in df_test_proc.columns:\n",
    "        df_test_proc[col] = df_test_proc[col].map(mapping).fillna(0).astype(int)\n",
    "\n",
    "# --- Нормализация дат (из блока 4.3) ---\n",
    "for df in [df_train_proc, df_test_proc]:\n",
    "    if 'YearBuilt' in df.columns: df['YearBuilt'] = 2011 - df['YearBuilt']\n",
    "    if 'YearRemodAdd' in df.columns: df['YearRemodAdd'] = 2011 - df['YearRemodAdd']\n",
    "    if 'MoSold' in df.columns and 'YrSold' in df.columns:\n",
    "        df['MonthsSoldAgo'] = (12 - df['MoSold']) + (2010 - df['YrSold']) * 12\n",
    "        df.drop(['MoSold', 'YrSold'], axis=1, inplace=True, errors='ignore')\n",
    "\n",
    "print(\"Базовая предобработка завершена.\")"
   ]
  },
  {
   "cell_type": "markdown",
   "id": "ba6e2731",
   "metadata": {},
   "source": [
    "\n",
    "### Ячейка 5: Единый пайплайн обработки данных\n",
    "\n",
    "Теперь применим все наши функции в правильном порядке. Это сердце нашего pre-processing'а."
   ]
  },
  {
   "cell_type": "code",
   "execution_count": 85,
   "id": "8911e69c",
   "metadata": {},
   "outputs": [
    {
     "name": "stdout",
     "output_type": "stream",
     "text": [
      "\n",
      "Шаг 2: Выполнение Feature Engineering (создание новых признаков)...\n",
      "Создание новых признаков завершено.\n",
      "        Id  MSSubClass MSZoning  LotFrontage  LotArea Street Alley  LotShape  \\\n",
      "0     1461          20       RH         80.0    11622   Pave   NaN         0   \n",
      "1     1462          20       RL         81.0    14267   Pave   NaN         1   \n",
      "2     1463          60       RL         74.0    13830   Pave   NaN         1   \n",
      "3     1464          60       RL         78.0     9978   Pave   NaN         1   \n",
      "4     1465         120       RL         43.0     5005   Pave   NaN         1   \n",
      "...    ...         ...      ...          ...      ...    ...   ...       ...   \n",
      "1454  2915         160       RM         21.0     1936   Pave   NaN         0   \n",
      "1455  2916         160       RM         21.0     1894   Pave   NaN         0   \n",
      "1456  2917          20       RL        160.0    20000   Pave   NaN         0   \n",
      "1457  2918          85       RL         62.0    10441   Pave   NaN         0   \n",
      "1458  2919          60       RL         74.0     9627   Pave   NaN         0   \n",
      "\n",
      "     LandContour LotConfig  ...  ExtMat_VinylSd ExtMat_Wd_Sdng ExtMat_WdShing  \\\n",
      "0            Lvl    Inside  ...               1              0              0   \n",
      "1            Lvl    Corner  ...               0              1              0   \n",
      "2            Lvl    Inside  ...               1              0              0   \n",
      "3            Lvl    Inside  ...               1              0              0   \n",
      "4            HLS    Inside  ...               0              0              0   \n",
      "...          ...       ...  ...             ...            ...            ...   \n",
      "1454         Lvl    Inside  ...               0              0              0   \n",
      "1455         Lvl    Inside  ...               0              0              0   \n",
      "1456         Lvl    Inside  ...               1              0              0   \n",
      "1457         Lvl    Inside  ...               0              0              0   \n",
      "1458         Lvl    Inside  ...               0              0              0   \n",
      "\n",
      "      Has_AllPub  Has_NoSewr  RomexWiring_Level  Is_MixedSystem Is_SBrkr  \\\n",
      "0              1           0                  2               0        1   \n",
      "1              1           0                  2               0        1   \n",
      "2              1           0                  2               0        1   \n",
      "3              1           0                  2               0        1   \n",
      "4              1           0                  2               0        1   \n",
      "...          ...         ...                ...             ...      ...   \n",
      "1454           1           0                  2               0        1   \n",
      "1455           1           0                  2               0        1   \n",
      "1456           1           0                  2               0        1   \n",
      "1457           1           0                  2               0        1   \n",
      "1458           1           0                  2               0        1   \n",
      "\n",
      "     Privacy_Level Wood_Fence_Level  \n",
      "0                1                0  \n",
      "1                0                0  \n",
      "2                1                0  \n",
      "3                0                0  \n",
      "4                0                0  \n",
      "...            ...              ...  \n",
      "1454             0                0  \n",
      "1455             0                0  \n",
      "1456             0                0  \n",
      "1457             1                0  \n",
      "1458             0                0  \n",
      "\n",
      "[1459 rows x 104 columns]\n"
     ]
    }
   ],
   "source": [
    "print(\"\\nШаг 2: Выполнение Feature Engineering (создание новых признаков)...\")\n",
    "\n",
    "# --- Garage Features ---\n",
    "# Сначала считаем медиану на обучающем наборе\n",
    "median_year_from_train = df_train_proc.loc[df_train_proc['GarageYrBlt'].notna(), 'GarageYrBlt'].median()\n",
    "\n",
    "for df in [df_train_proc, df_test_proc]:\n",
    "    # Создаем Num_Garages\n",
    "    if 'GarageType' in df.columns:\n",
    "        df['Num_Garages'] = 0\n",
    "        garage_type_filled = df['GarageType'].fillna('NoGarage')\n",
    "        misc_feature_filled = df['MiscFeature'].fillna('NoMisc')\n",
    "        single_garage_types = ['Attchd', 'Basment', 'BuiltIn', 'CarPort', 'Detchd']\n",
    "        df.loc[garage_type_filled.isin(single_garage_types), 'Num_Garages'] = 1\n",
    "        df.loc[garage_type_filled == '2Types', 'Num_Garages'] = 2\n",
    "        df.loc[misc_feature_filled == 'Gar2', 'Num_Garages'] += 1\n",
    "    # Обрабатываем GarageYrBlt\n",
    "    if 'GarageYrBlt' in df.columns:\n",
    "        df['GarageYrBlt'].fillna(median_year_from_train, inplace=True)\n",
    "        df['GarageYrBlt_Age'] = 2011 - df['GarageYrBlt'].astype(int)\n",
    "        df.drop('GarageYrBlt', axis=1, inplace=True)\n",
    "\n",
    "# --- House Style Features ---\n",
    "for df in [df_train_proc, df_test_proc]:\n",
    "    if 'HouseStyle' in df.columns:\n",
    "        floor_mapping = {'1Story': 1.0, '1.5Fin': 1.5, '1.5Unf': 1.5, '2Story': 2.0, '2.5Fin': 2.5, '2.5Unf': 2.5, 'SFoyer': 2.0, 'SLvl': 2.0}\n",
    "        df['Num_Floors'] = df['HouseStyle'].map(floor_mapping).fillna(1.0)\n",
    "        df['Is_SFoyer'] = (df['HouseStyle'] == 'SFoyer').astype(int)\n",
    "        df['Is_SLvl'] = (df['HouseStyle'] == 'SLvl').astype(int)\n",
    "        df['Is_Upper_Unfinished'] = df['HouseStyle'].str.contains('Unf', na=False).astype(int)\n",
    "        df.drop('HouseStyle', axis=1, inplace=True)\n",
    "\n",
    "# --- Basement Finish Features ---\n",
    "for df in [df_train_proc, df_test_proc]:\n",
    "    if 'BsmtFinType1' in df.columns:\n",
    "        quality_map = {'GLQ': 5, 'ALQ': 4, 'BLQ': 3, 'LwQ': 2, 'Unf': 1, 'NA': 0}\n",
    "        for i in [1, 2]:\n",
    "            type_col = f'BsmtFinType{i}'\n",
    "            if type_col in df.columns:\n",
    "                df[f'Is_Rec_Room{i}'] = (df[type_col] == 'Rec').astype(int)\n",
    "                temp_scores = df[type_col].map(quality_map)\n",
    "                median_for_rec = temp_scores.median()\n",
    "                df[f'BsmtFinQuality{i}'] = temp_scores\n",
    "                df.loc[df[type_col] == 'Rec', f'BsmtFinQuality{i}'] = median_for_rec\n",
    "                df[f'BsmtFinQuality{i}'] = df[f'BsmtFinQuality{i}'].fillna(0).astype(int)\n",
    "                df.drop(type_col, axis=1, inplace=True)\n",
    "\n",
    "# --- Location Features ---\n",
    "def map_condition(cond_series, level1, level2):\n",
    "    levels = pd.Series(0, index=cond_series.index)\n",
    "    levels[cond_series.isin(level1)] = 1\n",
    "    levels[cond_series.isin(level2)] = 2\n",
    "    return levels\n",
    "\n",
    "for df in [df_train_proc, df_test_proc]:\n",
    "    if 'Condition1' in df.columns:\n",
    "        street_l1, street_l2 = {'Feedr'}, {'Artery'}\n",
    "        rail_l1, rail_l2 = {'RRNn', 'RRNe'}, {'RRAn', 'RRAe'}\n",
    "        pos_l1, pos_l2 = {'PosN'}, {'PosA'}\n",
    "        df['StreetProximity'] = np.maximum(map_condition(df['Condition1'], street_l1, street_l2), map_condition(df['Condition2'], street_l1, street_l2))\n",
    "        df['RailProximity'] = np.maximum(map_condition(df['Condition1'], rail_l1, rail_l2), map_condition(df['Condition2'], rail_l1, rail_l2))\n",
    "        df['PositiveFeature'] = np.maximum(map_condition(df['Condition1'], pos_l1, pos_l2), map_condition(df['Condition2'], pos_l1, pos_l2))\n",
    "        df.drop(['Condition1', 'Condition2'], axis=1, inplace=True, errors='ignore')\n",
    "\n",
    "# --- И другие ваши функции из 4.4, если они были ---\n",
    "# Я добавлю остальные из вашего скрипта для полноты\n",
    "for df in [df_train_proc, df_test_proc]:\n",
    "    # Exterior material\n",
    "    ALL_EXTERIOR_MATERIALS = ['AsbShng', 'AsphShn', 'BrkComm', 'BrkFace', 'CBlock', 'CemntBd', 'HdBoard', 'ImStucc', 'MetalSd', 'Other', 'Plywood', 'Stone', 'Stucco', 'VinylSd', 'Wd Sdng', 'WdShing']\n",
    "    for mat in ALL_EXTERIOR_MATERIALS:\n",
    "        col_name = f'ExtMat_{mat.replace(\" \", \"_\")}'\n",
    "        is_in_ext1 = (df['Exterior1st'] == mat) if 'Exterior1st' in df.columns else False\n",
    "        is_in_ext2 = (df['Exterior2nd'] == mat) if 'Exterior2nd' in df.columns else False\n",
    "        df[col_name] = (is_in_ext1 | is_in_ext2).astype(int)\n",
    "    df.drop(['Exterior1st', 'Exterior2nd'], axis=1, inplace=True, errors='ignore')\n",
    "    \n",
    "    # Utilities\n",
    "    if 'Utilities' in df.columns:\n",
    "        df['Has_AllPub'] = (df['Utilities'] == 'AllPub').astype(int)\n",
    "        df['Has_NoSewr'] = (df['Utilities'] == 'NoSewr').astype(int)\n",
    "        df.drop('Utilities', axis=1, inplace=True, errors='ignore')\n",
    "        \n",
    "    # Electrical\n",
    "    if 'Electrical' in df.columns:\n",
    "        romex_map = {'SBrkr': 2, 'FuseA': 2, 'FuseF': 1, 'Mix': 1, 'FuseP': 0}\n",
    "        df['RomexWiring_Level'] = df['Electrical'].map(romex_map).fillna(0).astype(int)\n",
    "        df['Is_MixedSystem'] = (df['Electrical'] == 'Mix').astype(int)\n",
    "        df['Is_SBrkr'] = (df['Electrical'] == 'SBrkr').astype(int)\n",
    "        df.drop('Electrical', axis=1, inplace=True, errors='ignore')\n",
    "\n",
    "    # Fence\n",
    "    if 'Fence' in df.columns:\n",
    "        df['Privacy_Level'] = df['Fence'].map({'GdPrv': 2, 'MnPrv': 1}).fillna(0).astype(int)\n",
    "        df['Wood_Fence_Level'] = df['Fence'].map({'GdWo': 2, 'MnWw': 1}).fillna(0).astype(int)\n",
    "        df.drop('Fence', axis=1, inplace=True, errors='ignore')\n",
    "\n",
    "print(\"Создание новых признаков завершено.\")\n",
    "print(df_test_proc)"
   ]
  },
  {
   "cell_type": "markdown",
   "id": "399be448",
   "metadata": {},
   "source": [
    "### Ячейка 6: One-Hot Encoding и выравнивание столбцов\n",
    "\n",
    "На этом шаге мы преобразуем оставшиеся категориальные признаки в числовой формат и гарантируем, что в обучающем и тестовом наборах будет одинаковый набор столбцов."
   ]
  },
  {
   "cell_type": "code",
   "execution_count": 86,
   "id": "5dcc1c71",
   "metadata": {},
   "outputs": [
    {
     "name": "stdout",
     "output_type": "stream",
     "text": [
      "\n",
      "Шаг 3: Финальная обработка и One-Hot Encoding...\n",
      "\n",
      "Размер до One-Hot Encoding:\n",
      "Train: (1460, 102), Test: (1459, 101)\n",
      "Количество признаков для OHE: 17\n",
      "\n",
      "Размер после OHE и выравнивания:\n",
      "Train: (1460, 172), Test: (1459, 171)\n",
      "Финальное количество признаков для модели: 171\n"
     ]
    }
   ],
   "source": [
    "print(\"\\nШаг 3: Финальная обработка и One-Hot Encoding...\")\n",
    "\n",
    "# --- Удаление ненужных столбцов ---\n",
    "cols_to_drop = ['Id', 'MSSubClass', 'TotalBsmtSF']\n",
    "df_train_proc.drop(columns=cols_to_drop, inplace=True, errors='ignore')\n",
    "df_test_proc.drop(columns=cols_to_drop, inplace=True, errors='ignore')\n",
    "\n",
    "# --- Определяем категориальные признаки (ВАШ ОРИГИНАЛЬНЫЙ СПИСОК из блока 4.4) ---\n",
    "categorical_features = [\n",
    "    'MSZoning', 'Street', 'Alley', 'LandContour',\n",
    "    'LotConfig', 'Neighborhood',  \n",
    "    'BldgType', 'RoofStyle', 'RoofMatl',\n",
    "    'MasVnrType', 'Foundation', \n",
    "    'Heating', 'CentralAir', 'GarageType',  \n",
    "    'MiscFeature', 'SaleType', 'SaleCondition'\n",
    "]\n",
    "# Убедимся, что в списке только те колонки, что еще есть в датафрейме\n",
    "categorical_features = [col for col in categorical_features if col in df_train_proc.columns]\n",
    "\n",
    "print(f\"\\nРазмер до One-Hot Encoding:\")\n",
    "print(f\"Train: {df_train_proc.shape}, Test: {df_test_proc.shape}\")\n",
    "print(f\"Количество признаков для OHE: {len(categorical_features)}\")\n",
    "\n",
    "# --- One-Hot Encoding ---\n",
    "df_train_ohe = pd.get_dummies(df_train_proc, columns=categorical_features, drop_first=True, dtype=int)\n",
    "df_test_ohe = pd.get_dummies(df_test_proc, columns=categorical_features, drop_first=True, dtype=int)\n",
    "\n",
    "# --- Выравнивание столбцов ---\n",
    "train_cols = df_train_ohe.drop('SalePrice', axis=1, errors='ignore').columns\n",
    "df_test_final = df_test_ohe.reindex(columns=train_cols, fill_value=0)\n",
    "\n",
    "print(f\"\\nРазмер после OHE и выравнивания:\")\n",
    "print(f\"Train: {df_train_ohe.shape}, Test: {df_test_final.shape}\")\n",
    "print(f\"Финальное количество признаков для модели: {df_test_final.shape[1]}\")"
   ]
  },
  {
   "cell_type": "markdown",
   "id": "f22cf176",
   "metadata": {},
   "source": [
    "### Ячейка 7: Подготовка данных для обучения\n",
    "\n",
    "Разделяем данные на признаки (X) и цель (y), логарифмируем целевую переменную и делим выборку на обучающую и валидационную."
   ]
  },
  {
   "cell_type": "code",
   "execution_count": 87,
   "id": "3a0fb3c3",
   "metadata": {},
   "outputs": [
    {
     "name": "stdout",
     "output_type": "stream",
     "text": [
      "Данные разделены на обучающую и валидационную выборки.\n",
      "X_train: (1168, 171), y_train: (1168,)\n",
      "X_val:   (292, 171), y_val:   (292,)\n"
     ]
    }
   ],
   "source": [
    "# Разделение на признаки и целевую переменную\n",
    "X = df_train_ohe.drop(TARGET_COL, axis=1)\n",
    "y = df_train_ohe[TARGET_COL]\n",
    "\n",
    "# Логарифмируем целевую переменную\n",
    "# Используем log1p, который вычисляет log(1+x), чтобы избежать проблем с нулевыми ценами\n",
    "y_log = np.log1p(y)\n",
    "\n",
    "# Разделение на обучающую и валидационную выборки\n",
    "X_train, X_val, y_train_log, y_val_log = train_test_split(\n",
    "    X, y_log, \n",
    "    test_size=0.2, \n",
    "    random_state=42\n",
    ")\n",
    "\n",
    "print(\"Данные разделены на обучающую и валидационную выборки.\")\n",
    "print(f\"X_train: {X_train.shape}, y_train: {y_train_log.shape}\")\n",
    "print(f\"X_val:   {X_val.shape}, y_val:   {y_val_log.shape}\")"
   ]
  },
  {
   "cell_type": "markdown",
   "id": "d4944e82",
   "metadata": {},
   "source": [
    "\n",
    "### Ячейка 8: Создание PyTorch Tensors и DataLoaders\n",
    "\n",
    "Преобразуем наши `pandas.DataFrame` в `torch.Tensor` и упаковываем их в `DataLoader`. `DataLoader` позволяет подавать данные в модель батчами (небольшими порциями), что эффективно использует память и улучшает обучение."
   ]
  },
  {
   "cell_type": "code",
   "execution_count": 88,
   "id": "3a1f7180",
   "metadata": {},
   "outputs": [
    {
     "name": "stdout",
     "output_type": "stream",
     "text": [
      "Тензоры и DataLoaders созданы.\n",
      "Размер батча: 128\n"
     ]
    }
   ],
   "source": [
    "# Преобразование в тензоры PyTorch\n",
    "X_train_tensor = torch.tensor(X_train.values, dtype=torch.float32)\n",
    "y_train_tensor = torch.tensor(y_train_log.values, dtype=torch.float32).unsqueeze(1)\n",
    "X_val_tensor = torch.tensor(X_val.values, dtype=torch.float32)\n",
    "y_val_tensor = torch.tensor(y_val_log.values, dtype=torch.float32).unsqueeze(1)\n",
    "X_test_tensor = torch.tensor(df_test_final.values, dtype=torch.float32)\n",
    "\n",
    "# Создание кастомного Dataset\n",
    "class HousesDataset(Dataset):\n",
    "    \"\"\"Класс для удобной работы с данными о домах в PyTorch.\"\"\"\n",
    "    def __init__(self, features, labels=None):\n",
    "        self.features = features\n",
    "        self.labels = labels\n",
    "        self.is_test = labels is None\n",
    "    \n",
    "    def __len__(self):\n",
    "        return len(self.features)\n",
    "    \n",
    "    def __getitem__(self, idx):\n",
    "        if self.is_test:\n",
    "            return self.features[idx]\n",
    "        else:\n",
    "            return self.features[idx], self.labels[idx]\n",
    "\n",
    "# Создание DataLoaders\n",
    "BATCH_SIZE = 128\n",
    "train_loader = DataLoader(dataset=HousesDataset(X_train_tensor, y_train_tensor), batch_size=BATCH_SIZE, shuffle=True)\n",
    "val_loader = DataLoader(dataset=HousesDataset(X_val_tensor, y_val_tensor), batch_size=BATCH_SIZE, shuffle=False)\n",
    "test_loader = DataLoader(dataset=HousesDataset(X_test_tensor), batch_size=BATCH_SIZE, shuffle=False)\n",
    "\n",
    "print(\"Тензоры и DataLoaders созданы.\")\n",
    "print(f\"Размер батча: {BATCH_SIZE}\")"
   ]
  },
  {
   "cell_type": "markdown",
   "id": "b3ddd4d4",
   "metadata": {},
   "source": [
    "\n",
    "### Ячейка 9: Определение архитектуры нейронной сети\n",
    "\n",
    "Здесь мы описываем нашу модель. Выбранная вами архитектура очень хороша для табличных данных.\n",
    "\n",
    "*   **`BatchNorm1d` (пакетная нормализация):** Стабилизирует и ускоряет обучение, нормализуя выходы предыдущего слоя. Также работает как легкая форма регуляризации.\n",
    "*   **`GELU` (Gaussian Error Linear Unit):** Современная функция активации, часто показывающая результаты лучше, чем классическая `ReLU`.\n",
    "*   **`Dropout`:** \"Выключает\" случайные нейроны на каждом шаге обучения. Это мощный метод борьбы с переобучением, заставляющий сеть не полагаться на какой-то один признак.\n",
    "*   **`Linear`:** Обычный полносвязный слой."
   ]
  },
  {
   "cell_type": "code",
   "execution_count": 89,
   "id": "981c9eba",
   "metadata": {},
   "outputs": [
    {
     "name": "stdout",
     "output_type": "stream",
     "text": [
      "Архитектура модели:\n",
      "DeepRegressionModel(\n",
      "  (layers): Sequential(\n",
      "    (0): BatchNorm1d(171, eps=1e-05, momentum=0.1, affine=True, track_running_stats=True)\n",
      "    (1): Linear(in_features=171, out_features=171, bias=True)\n",
      "    (2): GELU(approximate='none')\n",
      "    (3): Dropout(p=0.4, inplace=False)\n",
      "    (4): BatchNorm1d(171, eps=1e-05, momentum=0.1, affine=True, track_running_stats=True)\n",
      "    (5): Linear(in_features=171, out_features=64, bias=True)\n",
      "    (6): GELU(approximate='none')\n",
      "    (7): Dropout(p=0.4, inplace=False)\n",
      "    (8): BatchNorm1d(64, eps=1e-05, momentum=0.1, affine=True, track_running_stats=True)\n",
      "    (9): Linear(in_features=64, out_features=1, bias=True)\n",
      "  )\n",
      ")\n"
     ]
    }
   ],
   "source": [
    "class DeepRegressionModel(nn.Module):\n",
    "    \"\"\"Глубокая нейронная сеть для задачи регрессии.\"\"\"\n",
    "    \n",
    "    def __init__(self, num_features):\n",
    "        super().__init__()\n",
    "        \n",
    "        self.layers = nn.Sequential(\n",
    "            nn.BatchNorm1d(num_features),\n",
    "            nn.Linear(num_features, num_features),\n",
    "            nn.GELU(),\n",
    "            nn.Dropout(0.4),\n",
    "            \n",
    "            nn.BatchNorm1d(num_features),\n",
    "            nn.Linear(num_features, 64),\n",
    "            nn.GELU(),\n",
    "            nn.Dropout(0.4),\n",
    "            \n",
    "            nn.BatchNorm1d(64),\n",
    "            nn.Linear(64, 1) # Выходной слой: 1 нейрон для предсказания цены\n",
    "        )\n",
    "\n",
    "    def forward(self, x):\n",
    "        return self.layers(x)\n",
    "\n",
    "# --- Инициализация модели ---\n",
    "input_features = X_train.shape[1]\n",
    "model = DeepRegressionModel(input_features).to(DEVICE)\n",
    "\n",
    "print(\"Архитектура модели:\")\n",
    "print(model)"
   ]
  },
  {
   "cell_type": "markdown",
   "id": "c83e1ce3",
   "metadata": {},
   "source": [
    "\n",
    "### Ячейка 10: Настройка процесса обучения\n",
    "\n",
    "Определяем \"правила игры\" для обучения: функцию потерь, оптимизатор и планировщик скорости обучения.\n",
    "\n",
    "*   **Функция потерь (`MSELoss`):** Среднеквадратичная ошибка. Идеально подходит для регрессии, так как сильно штрафует за большие ошибки.\n",
    "*   **Оптимизатор (`RAdam`):** Улучшенная версия популярного оптимизатора Adam. Он эффективно подбирает веса модели, чтобы минимизировать функцию потерь.\n",
    "*   **Планировщик (`ReduceLROnPlateau`):** Автоматически снижает скорость обучения (`learning rate`), если ошибка на валидации перестает улучшаться. Это помогает модели \"тонко настроиться\" на финальных этапах."
   ]
  },
  {
   "cell_type": "code",
   "execution_count": 90,
   "id": "356df94d",
   "metadata": {},
   "outputs": [
    {
     "name": "stdout",
     "output_type": "stream",
     "text": [
      "Настройки обучения определены:\n",
      "Эпохи: 400, Скорость обучения: 0.004\n"
     ]
    }
   ],
   "source": [
    "# --- Гиперпараметры обучения ---\n",
    "NUM_EPOCHS = 400\n",
    "LEARNING_RATE = 0.004\n",
    "WEIGHT_DECAY = 0.01 # L2-регуляризация в оптимизаторе\n",
    "\n",
    "# --- Настройка ---\n",
    "criterion = nn.MSELoss()\n",
    "optimizer = torch.optim.RAdam(model.parameters(), lr=LEARNING_RATE, weight_decay=WEIGHT_DECAY)\n",
    "scheduler = ReduceLROnPlateau(optimizer, mode='min', factor=0.5, patience=40)\n",
    "\n",
    "print(\"Настройки обучения определены:\")\n",
    "print(f\"Эпохи: {NUM_EPOCHS}, Скорость обучения: {LEARNING_RATE}\")"
   ]
  },
  {
   "cell_type": "markdown",
   "id": "feec8f21",
   "metadata": {},
   "source": [
    "### Ячейка 11: Цикл обучения модели\n",
    "\n",
    "Запускаем главный цикл, где модель будет итеративно учиться на данных, а мы — следить за ее прогрессом."
   ]
  },
  {
   "cell_type": "code",
   "execution_count": 91,
   "id": "e7c18f88",
   "metadata": {},
   "outputs": [
    {
     "name": "stdout",
     "output_type": "stream",
     "text": [
      "Начинаем обучение на 400 эпох...\n",
      "Эпоха [001/400] | Train RMSE: 11.6488 | Val RMSE: 11.3536 | LR: 0.004000\n",
      "Эпоха [020/400] | Train RMSE: 7.2891 | Val RMSE: 6.6863 | LR: 0.004000\n",
      "Эпоха [040/400] | Train RMSE: 1.4884 | Val RMSE: 0.4320 | LR: 0.004000\n",
      "Эпоха [060/400] | Train RMSE: 0.9487 | Val RMSE: 0.2502 | LR: 0.004000\n",
      "Эпоха [080/400] | Train RMSE: 0.6836 | Val RMSE: 0.1978 | LR: 0.004000\n",
      "Эпоха [100/400] | Train RMSE: 0.3563 | Val RMSE: 0.1760 | LR: 0.004000\n",
      "Эпоха [120/400] | Train RMSE: 0.2318 | Val RMSE: 0.1681 | LR: 0.004000\n",
      "Эпоха [140/400] | Train RMSE: 0.1664 | Val RMSE: 0.1496 | LR: 0.004000\n",
      "Эпоха [160/400] | Train RMSE: 0.1475 | Val RMSE: 0.1477 | LR: 0.004000\n",
      "Эпоха [180/400] | Train RMSE: 0.1439 | Val RMSE: 0.1424 | LR: 0.004000\n",
      "Эпоха [200/400] | Train RMSE: 0.1406 | Val RMSE: 0.1438 | LR: 0.004000\n",
      "Эпоха [220/400] | Train RMSE: 0.1386 | Val RMSE: 0.1550 | LR: 0.004000\n",
      "Эпоха [240/400] | Train RMSE: 0.1418 | Val RMSE: 0.1443 | LR: 0.004000\n",
      "Эпоха [260/400] | Train RMSE: 0.1377 | Val RMSE: 0.1493 | LR: 0.002000\n",
      "Эпоха [280/400] | Train RMSE: 0.1389 | Val RMSE: 0.1590 | LR: 0.002000\n",
      "Эпоха [300/400] | Train RMSE: 0.1363 | Val RMSE: 0.1405 | LR: 0.001000\n",
      "Эпоха [320/400] | Train RMSE: 0.1326 | Val RMSE: 0.1407 | LR: 0.001000\n",
      "Эпоха [340/400] | Train RMSE: 0.1319 | Val RMSE: 0.1411 | LR: 0.000500\n",
      "Эпоха [360/400] | Train RMSE: 0.1339 | Val RMSE: 0.1444 | LR: 0.000500\n",
      "Эпоха [380/400] | Train RMSE: 0.1363 | Val RMSE: 0.1478 | LR: 0.000250\n",
      "Эпоха [400/400] | Train RMSE: 0.1251 | Val RMSE: 0.1457 | LR: 0.000250\n",
      "\n",
      "Обучение завершено!\n"
     ]
    }
   ],
   "source": [
    "train_losses = []\n",
    "val_losses = []\n",
    "\n",
    "print(f\"Начинаем обучение на {NUM_EPOCHS} эпох...\")\n",
    "\n",
    "for epoch in range(NUM_EPOCHS):\n",
    "    # --- Фаза обучения ---\n",
    "    model.train()\n",
    "    current_train_loss = 0.0\n",
    "    for features, labels in train_loader:\n",
    "        features, labels = features.to(DEVICE), labels.to(DEVICE)\n",
    "        \n",
    "        optimizer.zero_grad()\n",
    "        outputs = model(features)\n",
    "        loss = criterion(outputs, labels)\n",
    "        loss.backward()\n",
    "        optimizer.step()\n",
    "        \n",
    "        current_train_loss += loss.item() * features.size(0)\n",
    "    \n",
    "    epoch_train_loss = np.sqrt(current_train_loss / len(train_loader.dataset)) # RMSE\n",
    "    train_losses.append(epoch_train_loss)\n",
    "    \n",
    "    # --- Фаза валидации ---\n",
    "    model.eval()\n",
    "    current_val_loss = 0.0\n",
    "    with torch.no_grad():\n",
    "        for features, labels in val_loader:\n",
    "            features, labels = features.to(DEVICE), labels.to(DEVICE)\n",
    "            outputs = model(features)\n",
    "            loss = criterion(outputs, labels)\n",
    "            current_val_loss += loss.item() * features.size(0)\n",
    "    \n",
    "    epoch_val_loss = np.sqrt(current_val_loss / len(val_loader.dataset)) # RMSE\n",
    "    val_losses.append(epoch_val_loss)\n",
    "    \n",
    "    # Обновление планировщика\n",
    "    scheduler.step(epoch_val_loss)\n",
    "    \n",
    "    # Вывод прогресса\n",
    "    if (epoch + 1) % 20 == 0 or epoch == 0:\n",
    "        print(f\"Эпоха [{epoch+1:03}/{NUM_EPOCHS}] | \"\n",
    "              f\"Train RMSE: {epoch_train_loss:.4f} | \"\n",
    "              f\"Val RMSE: {epoch_val_loss:.4f} | \"\n",
    "              f\"LR: {optimizer.param_groups[0]['lr']:.6f}\")\n",
    "\n",
    "print(\"\\nОбучение завершено!\")"
   ]
  },
  {
   "cell_type": "markdown",
   "id": "eaa83b19",
   "metadata": {},
   "source": [
    "### Ячейка 12: Визуализация результатов обучения\n",
    "\n",
    "График потерь — лучший способ понять, как прошло обучение. Мы ищем момент, когда обе кривые (train и validation) выходят на плато, и при этом кривая валидации не начинает расти (это было бы признаком переобучения)."
   ]
  },
  {
   "cell_type": "code",
   "execution_count": 92,
   "id": "03713171",
   "metadata": {},
   "outputs": [
    {
     "data": {
      "image/png": "[encoded data removed]",
      "text/plain": [
       "<Figure size 1200x800 with 1 Axes>"
      ]
     },
     "metadata": {},
     "output_type": "display_data"
    }
   ],
   "source": [
    "plt.figure(figsize=(12, 8))\n",
    "plt.plot(train_losses, label='Train Loss (RMSE)', color='blue')\n",
    "plt.plot(val_losses, label='Validation Loss (RMSE)', color='red')\n",
    "plt.xlabel('Эпоха')\n",
    "plt.ylabel('Корень из среднеквадратичной ошибки (RMSE)')\n",
    "plt.title('Динамика потерь на обучении и валидации')\n",
    "plt.legend()\n",
    "plt.grid(True)\n",
    "plt.show()"
   ]
  },
  {
   "cell_type": "markdown",
   "id": "4f3da1d7",
   "metadata": {},
   "source": [
    "### Ячейка 13: Создание файла для отправки на Kaggle\n",
    "\n",
    "Последний шаг: генерируем предсказания для тестового набора, возвращаем их из логарифмического масштаба в реальные цены и сохраняем в `csv`-файл в нужном формате."
   ]
  },
  {
   "cell_type": "code",
   "execution_count": 93,
   "id": "99f6bd3c",
   "metadata": {},
   "outputs": [
    {
     "name": "stdout",
     "output_type": "stream",
     "text": [
      "Предсказания для 1459 тестовых примеров сгенерированы.\n",
      "\n",
      "Submission файл 'submission_house_prices.csv' успешно создан.\n",
      "Первые 5 строк submission файла:\n",
      "     Id      SalePrice\n",
      "0  1461  103709.570312\n",
      "1  1462  126502.218750\n",
      "2  1463  147224.140625\n",
      "3  1464  162822.562500\n",
      "4  1465  175423.421875\n"
     ]
    }
   ],
   "source": [
    "# Ячейка 13: Создание файла для отправки на Kaggle (Финальная версия)\n",
    "\n",
    "model.eval()\n",
    "all_predictions = []\n",
    "\n",
    "with torch.no_grad():\n",
    "    for features_batch in test_loader:\n",
    "        features_batch = features_batch.to(DEVICE)\n",
    "        outputs = model(features_batch)\n",
    "        predicted_prices = torch.expm1(outputs)\n",
    "        all_predictions.extend(predicted_prices.cpu().numpy().flatten().tolist())\n",
    "\n",
    "print(f\"Предсказания для {len(all_predictions)} тестовых примеров сгенерированы.\")\n",
    "\n",
    "# --- Создание submission файла ---\n",
    "submission_df = pd.DataFrame({\n",
    "    'Id': df_test_original['Id'],\n",
    "    'SalePrice': all_predictions\n",
    "})\n",
    "\n",
    "# Сохраняем файл БЕЗ ИНДЕКСА\n",
    "submission_df.to_csv(SUBMISSION_FILE, index=False)\n",
    "\n",
    "print(f\"\\nSubmission файл '{SUBMISSION_FILE}' успешно создан.\")\n",
    "print(\"Первые 5 строк submission файла:\")\n",
    "print(submission_df.head())"
   ]
  }
 ],
 "metadata": {
  "kernelspec": {
   "display_name": "Python 3 (ipykernel)",
   "language": "python",
   "name": "python3"
  },
  "language_info": {
   "codemirror_mode": {
    "name": "ipython",
    "version": 3
   },
   "file_extension": ".py",
   "mimetype": "text/x-python",
   "name": "python",
   "nbconvert_exporter": "python",
   "pygments_lexer": "ipython3",
   "version": "3.12.3"
  }
 },
 "nbformat": 4,
 "nbformat_minor": 5
}
