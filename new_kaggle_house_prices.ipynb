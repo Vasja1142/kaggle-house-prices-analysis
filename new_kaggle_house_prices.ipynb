{
 "cells": [
  {
   "cell_type": "markdown",
   "id": "3e9bc639",
   "metadata": {},
   "source": [
    "### Ячейка 1: Импорты и глобальные настройки"
   ]
  },
  {
   "cell_type": "code",
   "execution_count": 1,
   "id": "c136fc41",
   "metadata": {},
   "outputs": [
    {
     "name": "stdout",
     "output_type": "stream",
     "text": [
      "Все библиотеки импортированы.\n",
      "Обучение будет производиться на устройстве: cuda\n",
      "Optuna version: 4.3.0\n",
      "MLflow version: 3.1.0\n"
     ]
    }
   ],
   "source": [
    "# --- Системные и основные библиотеки ---\n",
    "import os\n",
    "import warnings\n",
    "import pandas as pd\n",
    "import numpy as np\n",
    "\n",
    "# --- Визуализация ---\n",
    "import matplotlib.pyplot as plt\n",
    "import seaborn as sns\n",
    "from pylab import rcParams\n",
    "\n",
    "# --- Машинное обучение (Scikit-learn) ---\n",
    "from sklearn.model_selection import train_test_split\n",
    "\n",
    "# --- Машинное обучение (PyTorch) ---\n",
    "import torch\n",
    "import torch.nn as nn\n",
    "from torch.utils.data import Dataset, DataLoader\n",
    "from torch.optim.lr_scheduler import ReduceLROnPlateau\n",
    "\n",
    "# --- Инструменты для экспериментов ---\n",
    "import optuna\n",
    "import mlflow\n",
    "import mlflow.pytorch\n",
    "\n",
    "# --- Игнорируем предупреждения для чистоты вывода ---\n",
    "warnings.filterwarnings('ignore')\n",
    "\n",
    "# --- Константы ---\n",
    "DATA_PATH = \"data\"\n",
    "FILE_TRAIN = os.path.join(DATA_PATH, \"train.csv\")\n",
    "FILE_TEST = os.path.join(DATA_PATH, \"test.csv\")\n",
    "SUBMISSION_FILE = 'submission_house_prices.csv'\n",
    "DEVICE = torch.device(\"cuda\" if torch.cuda.is_available() else \"cpu\")\n",
    "\n",
    "# --- Настройки для визуализации ---\n",
    "plt.style.use('ggplot')\n",
    "rcParams['figure.figsize'] = 12, 8\n",
    "\n",
    "print(\"Все библиотеки импортированы.\")\n",
    "print(f\"Обучение будет производиться на устройстве: {DEVICE}\")\n",
    "print(f\"Optuna version: {optuna.__version__}\")\n",
    "print(f\"MLflow version: {mlflow.__version__}\")"
   ]
  },
  {
   "cell_type": "markdown",
   "id": "92d74704",
   "metadata": {},
   "source": [
    "### Ячейка 2: Конфигурация эксперимента"
   ]
  },
  {
   "cell_type": "code",
   "execution_count": 2,
   "id": "9ca0c8f1",
   "metadata": {},
   "outputs": [
    {
     "name": "stdout",
     "output_type": "stream",
     "text": [
      "Конфигурация эксперимента задана.\n",
      "Optuna проведет 50 экспериментов.\n"
     ]
    }
   ],
   "source": [
    "# --- Общие настройки эксперимента ---\n",
    "EXPERIMENT_NAME = \"House Prices - Optuna & MLflow\"\n",
    "N_TRIALS = 50 # Количество экспериментов для Optuna\n",
    "EPOCHS = 200  # Фиксированное количество эпох для каждого эксперимента\n",
    "\n",
    "# --- Базовые параметры (могут быть переопределены Optuna) ---\n",
    "class Config:\n",
    "    # Параметры DataLoader\n",
    "    BATCH_SIZE = 128\n",
    "    \n",
    "    # Параметры оптимизатора\n",
    "    LEARNING_RATE = 0.005\n",
    "    WEIGHT_DECAY = 0.01\n",
    "    \n",
    "    # Параметры планировщика\n",
    "    SCHEDULER_PATIENCE = 20\n",
    "    SCHEDULER_FACTOR = 0.5\n",
    "    \n",
    "    # Параметры архитектуры модели\n",
    "    # Список с количеством нейронов в каждом скрытом слое\n",
    "    HIDDEN_LAYERS = [128, 64] \n",
    "    # Список со значением Dropout для каждого скрытого слоя\n",
    "    DROPOUT_RATES = [0.4, 0.4]\n",
    "\n",
    "print(\"Конфигурация эксперимента задана.\")\n",
    "print(f\"Optuna проведет {N_TRIALS} экспериментов.\")"
   ]
  },
  {
   "cell_type": "markdown",
   "id": "7b354111",
   "metadata": {},
   "source": [
    "### Ячейка 3: Комплексная обработка данных"
   ]
  },
  {
   "cell_type": "code",
   "execution_count": 3,
   "id": "e74be5b8",
   "metadata": {},
   "outputs": [
    {
     "name": "stdout",
     "output_type": "stream",
     "text": [
      "Данные успешно загружены.\n",
      "Предобработка завершена.\n",
      "Размер обработанного train датасета: (1460, 124)\n",
      "Размер обработанного test датасета:  (1459, 124)\n",
      "Целевая переменная 'SalePrice' сохранена отдельно, размер: (1460,)\n"
     ]
    }
   ],
   "source": [
    "# --- ЗАГРУЗКА ДАННЫХ ---\n",
    "try:\n",
    "    df_train = pd.read_csv(FILE_TRAIN)\n",
    "    df_test = pd.read_csv(FILE_TEST)\n",
    "    df_test_original = df_test.copy()\n",
    "    print(\"Данные успешно загружены.\")\n",
    "except FileNotFoundError:\n",
    "    print(f\"Ошибка: Файлы не найдены в директории '{DATA_PATH}'.\")\n",
    "\n",
    "# --- ПОЛНЫЙ ПАЙПЛАЙН ПРЕДОБРАБОТКИ ---\n",
    "\n",
    "# 1. Подготовка\n",
    "df_train_proc = df_train.copy()\n",
    "df_test_proc = df_test.copy()\n",
    "train_target = df_train_proc['SalePrice'].copy()\n",
    "df_train_proc.drop('SalePrice', axis=1, inplace=True)\n",
    "train_rows = len(df_train_proc)\n",
    "df_combined = pd.concat([df_train_proc, df_test_proc], ignore_index=True)\n",
    "\n",
    "\n",
    "# --- ЭТАП 2: БАЗОВАЯ ОЧИСТКА И ЗАПОЛНЕНИЕ ПРОПУСКОВ ---\n",
    "\n",
    "# 2.1 Рассчитываем медианы на ОБЪЕДИНЕННЫХ данных для большей точности\n",
    "lotfrontage_median = df_combined['LotFrontage'].median()\n",
    "garageyrblt_median = df_combined['GarageYrBlt'].median()\n",
    "\n",
    "# 2.2 Заполняем пропуски\n",
    "df_combined['LotFrontage'].fillna(lotfrontage_median, inplace=True)\n",
    "df_combined['GarageYrBlt'].fillna(garageyrblt_median, inplace=True)\n",
    "\n",
    "# 2.3 Заполняем нулями столбцы, где NA означает \"отсутствие\" объекта\n",
    "cols_fill_zero = [\n",
    "    'MasVnrArea', 'BsmtFinSF1', 'BsmtFinSF2', 'BsmtUnfSF',\n",
    "    'GarageCars', 'GarageArea', 'BsmtFullBath', 'BsmtHalfBath'\n",
    "]\n",
    "for col in cols_fill_zero:\n",
    "    df_combined[col].fillna(0, inplace=True)\n",
    "\n",
    "# 2.4 Заполняем пропуски в категориальных признаках строкой 'NA'\n",
    "cat_cols_fill_na = [\n",
    "    'Alley', 'BsmtQual', 'BsmtCond', 'BsmtExposure', 'BsmtFinType1', 'BsmtFinType2',\n",
    "    'FireplaceQu', 'GarageType', 'GarageFinish', 'GarageQual', 'GarageCond',\n",
    "    'PoolQC', 'Fence', 'MiscFeature', 'MasVnrType', 'Electrical', 'MSZoning',\n",
    "    'Utilities', 'Exterior1st', 'Exterior2nd', 'KitchenQual', 'Functional', 'SaleType'\n",
    "]\n",
    "for col in cat_cols_fill_na:\n",
    "    df_combined[col].fillna('NA', inplace=True)\n",
    "\n",
    "# 2.5 Исправляем опечатки, замеченные при анализе данных\n",
    "df_combined['Exterior2nd'].replace({\"CmentBd\": \"CemntBd\", \"Wd Shng\": \"WdShing\"}, inplace=True)\n",
    "\n",
    "\n",
    "# --- ЭТАП 3: ИНЖИНИРИНГ ПРИЗНАКОВ (FEATURE ENGINEERING) ---\n",
    "\n",
    "# 3.1 Временные признаки (давность событий относительно 2010 года)\n",
    "df_combined['YearBuildAgo'] = 2010 - df_combined['YearBuilt']\n",
    "df_combined['YearRemodAddAgo'] = 2010 - df_combined['YearRemodAdd']\n",
    "df_combined['GarageYrBltAgo'] = 2010 - df_combined['GarageYrBlt']\n",
    "df_combined['MoSoldAgo'] = 12 - df_combined['MoSold'] + 12 * (2010 - df_combined['YrSold'])\n",
    "\n",
    "# 3.2 Порядковое кодирование (Ordinal Encoding)\n",
    "qual_map = {'Ex': 5, 'Gd': 4, 'TA': 3, 'Fa': 2, 'Po': 1, 'NA': 0}\n",
    "bsmt_fin_map = {'GLQ': 5, 'ALQ': 4, 'BLQ': 3, 'Rec': 3.5, 'LwQ': 2, 'Unf': 1, 'NA': 0}\n",
    "bsmt_exp_map = {'Gd': 4, 'Av': 3, 'Mn': 2, 'No': 1, 'NA': 0}\n",
    "garage_fin_map = {'Fin': 3, 'RFn': 2, 'Unf': 1, 'NA': 0}\n",
    "functional_map = {'Typ': 0, 'Min1': 2, 'Min2': 1, 'Mod': 3, 'Maj1': 4, 'Maj2': 5, 'Sev': 6, 'NA': 0}\n",
    "paved_drive_map = {'Y': 0, 'P': 1, 'N': 2}\n",
    "electrical_map = {'SBrkr': 0, 'FuseA': 1, 'FuseF': 2, 'FuseP': 3, 'Mix': 1, 'NA': 1}\n",
    "\n",
    "qual_cols = ['ExterQual', 'ExterCond', 'BsmtQual', 'BsmtCond', 'HeatingQC', 'KitchenQual', 'FireplaceQu', 'GarageQual', 'GarageCond', 'PoolQC']\n",
    "for col in qual_cols:\n",
    "    df_combined[col] = df_combined[col].map(qual_map)\n",
    "\n",
    "df_combined['BsmtFinQuality1'] = df_combined['BsmtFinType1'].map(bsmt_fin_map)\n",
    "df_combined['BsmtFinQuality2'] = df_combined['BsmtFinType2'].map(bsmt_fin_map)\n",
    "df_combined['BsmtExposure'] = df_combined['BsmtExposure'].map(bsmt_exp_map)\n",
    "df_combined['GarageFinish'] = df_combined['GarageFinish'].map(garage_fin_map)\n",
    "df_combined['Functional'] = df_combined['Functional'].map(functional_map)\n",
    "df_combined['PavedDrive'] = df_combined['PavedDrive'].map(paved_drive_map)\n",
    "df_combined['Electrical'] = df_combined['Electrical'].map(electrical_map)\n",
    "\n",
    "# 3.3 Создание признаков на основе условий\n",
    "df_combined['Alley_road'] = df_combined['Alley'].map({'NA': 0, 'Grvl': 1, 'Pave': 2})\n",
    "df_combined['LvlLotShape'] = df_combined['LotShape'].map({'Reg': 0, 'IR1': 1, 'IR2': 2, 'IR3': 3})\n",
    "df_combined['LandContourLvl'] = df_combined['LandContour'].apply(lambda x: 0 if x == 'Lvl' else (1 if x == 'Low' else 2))\n",
    "df_combined['Inside'] = (df_combined['LotConfig'] == 'Inside').astype(int)\n",
    "df_combined['Corner'] = (df_combined['LotConfig'] == 'Corner').astype(int)\n",
    "df_combined['CulDSac'] = (df_combined['LotConfig'] == 'CulDSac').astype(int)\n",
    "df_combined['FR'] = df_combined['LotConfig'].apply(lambda x: 2 if x == 'FR3' else (1 if x == 'FR2' else 0))\n",
    "df_combined['LandSlopeLvl'] = df_combined['LandSlope'].map({'Gtl': 0, 'Mod': 1, 'Sev': 2})\n",
    "df_combined['RR'] = ((df_combined['Condition1'].str.contains('RR')) | (df_combined['Condition2'].str.contains('RR'))).astype(int)\n",
    "df_combined['PosObj'] = ((df_combined['Condition1'].str.contains('Pos')) | (df_combined['Condition2'].str.contains('Pos'))).astype(int)\n",
    "df_combined['StreetObj'] = ((df_combined['Condition1'].isin(['Artery', 'Feedr'])) | (df_combined['Condition2'].isin(['Artery', 'Feedr']))).astype(int)\n",
    "df_combined['notFinishFloor'] = ((df_combined['HouseStyle'] == '1.5Unf') | (df_combined['HouseStyle'] == '2.5Unf')).astype(int)\n",
    "df_combined['Split'] = df_combined['HouseStyle'].apply(lambda x: 2 if x == 'SLvl' else (1 if x == 'SFoyer' else 0))\n",
    "df_combined['NumGarage'] = df_combined.apply(lambda row: 2 if row['GarageType'] == '2Types' or row['MiscFeature'] == 'Gar2' else 0 if row['GarageType'] == 'NA' else 1, axis=1)\n",
    "df_combined['Privacy'] = df_combined['Fence'].apply(lambda x: 2 if x == 'GdPrv' else (1 if x in ['MnPrv', 'GdWo'] else 0))\n",
    "df_combined['WoodFence'] = df_combined['Fence'].apply(lambda x: 2 if x == 'GdWo' else (1 if x == 'MnWw' else 0))\n",
    "df_combined['Is_Rec_Room1'] = (df_combined['BsmtFinType1'] == 'Rec').astype(int)\n",
    "df_combined['Is_Rec_Room2'] = (df_combined['BsmtFinType2'] == 'Rec').astype(int)\n",
    "\n",
    "# 3.4 Группировка редких категорий и упрощение признаков\n",
    "df_combined['Neighborhood'] = df_combined['Neighborhood'].apply(lambda x: 'Other' if x in ['Veenker', 'NPkVill', 'Blmngtn', 'Blueste'] else x)\n",
    "df_combined['MSZoning'] = df_combined['MSZoning'].apply(lambda x: 'Other' if x in ['C (all)', 'NA', 'RH'] else x)\n",
    "df_combined['BldgType'] = df_combined['BldgType'].apply(lambda x: 'Other' if x in ['Duplex', 'Twnhs', '2fmCon'] else x)\n",
    "df_combined['RoofStyle'] = df_combined['RoofStyle'].apply(lambda x: 'Other' if x in ['Gambrel', 'Flat', 'Mansard', 'Shed'] else x)\n",
    "df_combined['RoofMatl'] = df_combined['RoofMatl'].apply(lambda x: 'Other' if x in [\"Tar&Grv\", \"ClyTile\", \"Membran\", \"Metal\", \"Roll\", \"WdShngl\", \"WdShake\"] else x)\n",
    "df_combined['MasVnrType'] = df_combined['MasVnrType'].apply(lambda x: 'Other' if x in ['NA', 'BrkCmn'] else x)\n",
    "df_combined['Foundation'] = df_combined['Foundation'].apply(lambda x: 'Other' if x in ['Stone', 'Wood'] else x)\n",
    "df_combined['Heating'] = df_combined['Heating'].apply(lambda x: 'Other' if x in ['GasW', 'Grav', 'Wall', 'OthW', 'Floor'] else x)\n",
    "df_combined['GarageType'] = df_combined['GarageType'].apply(lambda x: 'Other' if x in ['Basment', '2Types', 'CarPort'] else x)\n",
    "df_combined['MiscFeature'] = df_combined['MiscFeature'].apply(lambda x: 'ShedOrOther' if x in ['Gar2', 'Othr', 'TenC', 'Shed'] else x)\n",
    "df_combined['SaleType'] = df_combined['SaleType'].apply(lambda x: 'Other' if x in ['ConLD', 'CWD', 'ConLI', 'ConLw', 'Oth', 'Con', 'NA'] else x)\n",
    "df_combined['SaleCondition'] = df_combined['SaleCondition'].apply(lambda x: 'Other' if x in ['Alloca', 'AdjLand'] else x)\n",
    "\n",
    "# 3.5 One-Hot Encoding для материалов экстерьера\n",
    "main_materials = [\"VinylSd\", \"MetalSd\", \"HdBoard\", \"Wd Sdng\", \"Plywood\", \"CemntBd\", \"BrkFace\", \"WdShing\", \"AsbShng\", \"Stucco\"]\n",
    "for material in main_materials:\n",
    "    df_combined[material] = ((df_combined['Exterior1st'] == material) | (df_combined['Exterior2nd'] == material)).astype(int)\n",
    "df_combined['ExtMat_Other'] = ((~df_combined['Exterior1st'].isin(main_materials)) | (~df_combined['Exterior2nd'].isin(main_materials))).astype(int)\n",
    "\n",
    "\n",
    "# --- ЭТАП 4: ФИНАЛИЗАЦИЯ И РАЗДЕЛЕНИЕ ---\n",
    "\n",
    "# 4.1 Удаляем исходные столбцы, которые были преобразованы или больше не нужны\n",
    "cols_to_drop = [\n",
    "    'Id', 'MSSubClass', 'TotalBsmtSF', 'Street', 'Utilities', 'Alley', 'LotShape',\n",
    "    'LandContour', 'LotConfig', 'LandSlope', 'Condition1', 'Condition2', 'BldgType',\n",
    "    'HouseStyle', 'YearBuilt', 'YearRemodAdd', 'RoofStyle', 'Exterior1st', 'Exterior2nd',\n",
    "    'BsmtFinType1', 'BsmtFinType2', 'GarageYrBlt', 'Fence', 'YrSold', 'MoSold'\n",
    "]\n",
    "df_processed = df_combined.drop(columns=cols_to_drop, errors='ignore')\n",
    "\n",
    "# 4.2 Преобразуем оставшиеся категориальные столбцы в dummy-переменные\n",
    "df_processed = pd.get_dummies(df_processed, drop_first=True)\n",
    "\n",
    "# 4.3 Преобразуем столбцы типа 'bool' (True/False) в 'int' (1/0)\n",
    "bool_columns = df_processed.select_dtypes(include=['bool']).columns\n",
    "df_processed[bool_columns] = df_processed[bool_columns].astype(int)\n",
    "\n",
    "\n",
    "# --- ЭТАП 5: РАЗДЕЛЕНИЕ НА TRAIN И TEST ---\n",
    "\n",
    "# 5.1 Разделяем обработанный датафрейм обратно на train и test\n",
    "df_train_proc = df_processed.iloc[:train_rows].copy()\n",
    "df_test_proc = df_processed.iloc[train_rows:].copy()\n",
    "\n",
    "# --- КОНЕЦ СКРИПТА ---\n",
    "print(\"Предобработка завершена.\")\n",
    "print(f\"Размер обработанного train датасета: {df_train_proc.shape}\")\n",
    "print(f\"Размер обработанного test датасета:  {df_test_proc.shape}\")\n",
    "print(f\"Целевая переменная 'SalePrice' сохранена отдельно, размер: {train_target.shape}\")"
   ]
  },
  {
   "cell_type": "markdown",
   "id": "343b6bc5",
   "metadata": {},
   "source": [
    "### Ячейка 4: Подготовка данных для обучения\n"
   ]
  },
  {
   "cell_type": "code",
   "execution_count": 4,
   "id": "1fb7214b",
   "metadata": {},
   "outputs": [
    {
     "name": "stdout",
     "output_type": "stream",
     "text": [
      "Данные разделены на обучающую и валидационную выборки.\n",
      "X_train: (1168, 124), y_train: (1168,)\n",
      "X_val:   (292, 124), y_val:   (292,)\n"
     ]
    }
   ],
   "source": [
    "X = df_train_proc\n",
    "y = train_target\n",
    "\n",
    "# Логарифмируем целевую переменную для стабилизации обучения\n",
    "y_log = np.log1p(y)\n",
    "\n",
    "# Разделение на обучающую и валидационную выборки\n",
    "X_train, X_val, y_train_log, y_val_log = train_test_split(\n",
    "    X, y_log, \n",
    "    test_size=0.2, \n",
    "    random_state=42 # для воспроизводимости результатов\n",
    ")\n",
    "\n",
    "print(\"Данные разделены на обучающую и валидационную выборки.\")\n",
    "print(f\"X_train: {X_train.shape}, y_train: {y_train_log.shape}\")\n",
    "print(f\"X_val:   {X_val.shape}, y_val:   {y_val_log.shape}\")"
   ]
  },
  {
   "cell_type": "markdown",
   "id": "d0c03ff7",
   "metadata": {},
   "source": [
    "### Ячейка 5: Класс-обертка для данных (PyTorch Dataset)"
   ]
  },
  {
   "cell_type": "code",
   "execution_count": 5,
   "id": "7e5bc35f",
   "metadata": {},
   "outputs": [
    {
     "name": "stdout",
     "output_type": "stream",
     "text": [
      "Класс HousesDataset и тензоры данных готовы к использованию.\n"
     ]
    }
   ],
   "source": [
    "# Преобразуем данные pandas в формат тензоров PyTorch\n",
    "X_train_tensor = torch.tensor(X_train.values, dtype=torch.float32)\n",
    "y_train_tensor = torch.tensor(y_train_log.values, dtype=torch.float32).unsqueeze(1)\n",
    "X_val_tensor = torch.tensor(X_val.values, dtype=torch.float32)\n",
    "y_val_tensor = torch.tensor(y_val_log.values, dtype=torch.float32).unsqueeze(1)\n",
    "X_test_tensor = torch.tensor(df_test_proc.values, dtype=torch.float32)\n",
    "\n",
    "# Создание кастомного Dataset\n",
    "class HousesDataset(Dataset):\n",
    "    \"\"\"\n",
    "    Класс-обертка для данных о домах.\n",
    "    Позволяет DataLoader'у эффективно работать с нашими тензорами.\n",
    "    \"\"\"\n",
    "    def __init__(self, features, labels=None):\n",
    "        self.features = features\n",
    "        self.labels = labels\n",
    "        # Если метки (labels) не переданы, значит, это тестовый набор\n",
    "        self.is_test = labels is None\n",
    "    \n",
    "    def __len__(self):\n",
    "        # Возвращает общее количество примеров в датасете\n",
    "        return len(self.features)\n",
    "    \n",
    "    def __getitem__(self, idx):\n",
    "        # Возвращает один пример (признаки и, если есть, метку) по индексу\n",
    "        if self.is_test:\n",
    "            return self.features[idx]\n",
    "        else:\n",
    "            return self.features[idx], self.labels[idx]\n",
    "\n",
    "print(\"Класс HousesDataset и тензоры данных готовы к использованию.\")"
   ]
  },
  {
   "cell_type": "markdown",
   "id": "ba6e2731",
   "metadata": {},
   "source": [
    "### Ячейка 6: Динамическая архитектура модели"
   ]
  },
  {
   "cell_type": "code",
   "execution_count": 6,
   "id": "8911e69c",
   "metadata": {},
   "outputs": [
    {
     "name": "stdout",
     "output_type": "stream",
     "text": [
      "Архитектура модели стала динамической. Пример:\n",
      "DynamicRegressionModel(\n",
      "  (network): Sequential(\n",
      "    (0): BatchNorm1d(124, eps=1e-05, momentum=0.1, affine=True, track_running_stats=True)\n",
      "    (1): Linear(in_features=124, out_features=128, bias=True)\n",
      "    (2): GELU(approximate='none')\n",
      "    (3): Dropout(p=0.4, inplace=False)\n",
      "    (4): BatchNorm1d(128, eps=1e-05, momentum=0.1, affine=True, track_running_stats=True)\n",
      "    (5): Linear(in_features=128, out_features=64, bias=True)\n",
      "    (6): GELU(approximate='none')\n",
      "    (7): Dropout(p=0.4, inplace=False)\n",
      "    (8): BatchNorm1d(64, eps=1e-05, momentum=0.1, affine=True, track_running_stats=True)\n",
      "    (9): Linear(in_features=64, out_features=1, bias=True)\n",
      "  )\n",
      ")\n"
     ]
    }
   ],
   "source": [
    "class DynamicRegressionModel(nn.Module):\n",
    "    \"\"\"\n",
    "    Нейронная сеть, архитектура которой определяется входными параметрами.\n",
    "    \"\"\"\n",
    "    def __init__(self, num_features, hidden_layers, dropout_rates):\n",
    "        super().__init__()\n",
    "        \n",
    "        layers = []\n",
    "        input_dim = num_features\n",
    "        \n",
    "        # Динамически создаем скрытые слои\n",
    "        for i, (hidden_dim, dropout_rate) in enumerate(zip(hidden_layers, dropout_rates)):\n",
    "            layers.append(nn.BatchNorm1d(input_dim))\n",
    "            layers.append(nn.Linear(input_dim, hidden_dim))\n",
    "            layers.append(nn.GELU())\n",
    "            layers.append(nn.Dropout(dropout_rate))\n",
    "            input_dim = hidden_dim # Выход текущего слоя - вход для следующего\n",
    "            \n",
    "        # Добавляем выходной слой\n",
    "        layers.append(nn.BatchNorm1d(input_dim))\n",
    "        layers.append(nn.Linear(input_dim, 1))\n",
    "        \n",
    "        self.network = nn.Sequential(*layers)\n",
    "\n",
    "    def forward(self, x):\n",
    "        return self.network(x)\n",
    "\n",
    "# Пример создания модели с базовой конфигурацией\n",
    "input_features = X_train.shape[1]\n",
    "example_model = DynamicRegressionModel(\n",
    "    num_features=input_features,\n",
    "    hidden_layers=Config.HIDDEN_LAYERS,\n",
    "    dropout_rates=Config.DROPOUT_RATES\n",
    ").to(DEVICE)\n",
    "\n",
    "print(\"Архитектура модели стала динамической. Пример:\")\n",
    "print(example_model)"
   ]
  },
  {
   "cell_type": "markdown",
   "id": "399be448",
   "metadata": {},
   "source": [
    "### Ячейка 7: objective — Сердце эксперимента"
   ]
  },
  {
   "cell_type": "code",
   "execution_count": 7,
   "id": "5dcc1c71",
   "metadata": {},
   "outputs": [],
   "source": [
    "def objective(trial):\n",
    "    \"\"\"\n",
    "    Функция для одного эксперимента Optuna. \n",
    "    Обучает модель с предложенными гиперпараметрами и возвращает метрику качества.\n",
    "    \"\"\"\n",
    "    # Запускаем новый \"прогон\" в MLflow. `nested=True` нужно для Optuna.\n",
    "    with mlflow.start_run(nested=True):\n",
    "        \n",
    "        # --- 1. Предложение гиперпараметров от Optuna ---\n",
    "        # Мы создаем словарь, чтобы потом удобно логировать его в MLflow\n",
    "        params = {\n",
    "            'learning_rate': trial.suggest_float('learning_rate', 1e-4, 1e-2, log=True),\n",
    "            'batch_size': trial.suggest_categorical('batch_size', [64, 128, 256]),\n",
    "            'weight_decay': trial.suggest_float('weight_decay', 1e-5, 1e-1, log=True),\n",
    "            'num_hidden_layers': trial.suggest_int('num_hidden_layers', 1, 3),\n",
    "        }\n",
    "        \n",
    "        hidden_layers = []\n",
    "        dropout_rates = []\n",
    "        for i in range(params['num_hidden_layers']):\n",
    "            # Используем log=True для n_units, т.к. это широкий диапазон\n",
    "            hidden_layers.append(trial.suggest_int(f'n_units_l{i}', 32, 256, log=True))\n",
    "            dropout_rates.append(trial.suggest_float(f'dropout_l{i}', 0.1, 0.5))\n",
    "        \n",
    "        # Логируем все параметры разом\n",
    "        mlflow.log_params(trial.params)\n",
    "        # Логируем архитектуру в читаемом виде\n",
    "        mlflow.log_param(\"hidden_layers_arch\", str(hidden_layers))\n",
    "        mlflow.log_param(\"dropout_rates_arch\", str(dropout_rates))\n",
    "\n",
    "        # --- 2. Подготовка данных и модели ---\n",
    "        train_loader = DataLoader(HousesDataset(X_train_tensor, y_train_tensor), batch_size=params['batch_size'], shuffle=True)\n",
    "        val_loader = DataLoader(HousesDataset(X_val_tensor, y_val_tensor), batch_size=params['batch_size'], shuffle=False)\n",
    "\n",
    "        model = DynamicRegressionModel(\n",
    "            X_train.shape[1], \n",
    "            hidden_layers, \n",
    "            dropout_rates\n",
    "        ).to(DEVICE)\n",
    "        \n",
    "        optimizer = torch.optim.RAdam(model.parameters(), lr=params['learning_rate'], weight_decay=params['weight_decay'])\n",
    "        scheduler = ReduceLROnPlateau(optimizer, mode='min', factor=Config.SCHEDULER_FACTOR, patience=Config.SCHEDULER_PATIENCE)\n",
    "        criterion = nn.MSELoss()\n",
    "\n",
    "        # --- 3. Цикл обучения и валидации ---\n",
    "        min_val_loss = float('inf')\n",
    "        for epoch in range(EPOCHS):\n",
    "            model.train()\n",
    "            # ... (цикл обучения без изменений) ...\n",
    "            for features, labels in train_loader:\n",
    "                features, labels = features.to(DEVICE), labels.to(DEVICE)\n",
    "                optimizer.zero_grad()\n",
    "                outputs = model(features)\n",
    "                loss = criterion(outputs, labels)\n",
    "                loss.backward()\n",
    "                optimizer.step()\n",
    "\n",
    "            model.eval()\n",
    "            current_val_loss = 0.0\n",
    "            with torch.no_grad():\n",
    "                for features, labels in val_loader:\n",
    "                    features, labels = features.to(DEVICE), labels.to(DEVICE)\n",
    "                    outputs = model(features)\n",
    "                    loss = criterion(outputs, labels)\n",
    "                    current_val_loss += loss.item() * features.size(0)\n",
    "            \n",
    "            epoch_val_loss = np.sqrt(current_val_loss / len(val_loader.dataset))\n",
    "            scheduler.step(epoch_val_loss)\n",
    "            \n",
    "            mlflow.log_metric('val_rmse', epoch_val_loss, step=epoch)\n",
    "\n",
    "            if epoch_val_loss < min_val_loss:\n",
    "                min_val_loss = epoch_val_loss\n",
    "        \n",
    "        # --- 4. Финальное логирование в MLflow ---\n",
    "        mlflow.log_metric('final_val_rmse', min_val_loss)\n",
    "        \n",
    "        # ИЗМЕНЕНИЕ 1: Создаем пример входных данных для сигнатуры\n",
    "        input_example = X_train_tensor[:5].to(DEVICE) # Берем 5 примеров\n",
    "        \n",
    "        # ИЗМЕНЕНИЕ 2: Логируем модель с сигнатурой и регистрируем ее\n",
    "        mlflow.pytorch.log_model(\n",
    "            model, \n",
    "            \"model\", # Имя папки с артефактом\n",
    "            signature=mlflow.models.infer_signature(input_example.cpu().numpy(), model(input_example).detach().cpu().numpy()),\n",
    "            input_example=input_example.cpu().numpy(),\n",
    "            registered_model_name=\"house-prices-regressor\" # Имя для реестра моделей\n",
    "        )\n",
    "\n",
    "    return min_val_loss"
   ]
  },
  {
   "cell_type": "markdown",
   "id": "f22cf176",
   "metadata": {},
   "source": [
    "### Ячейка 8: Запуск оптимизации"
   ]
  },
  {
   "cell_type": "code",
   "execution_count": 8,
   "id": "3a0fb3c3",
   "metadata": {},
   "outputs": [
    {
     "name": "stderr",
     "output_type": "stream",
     "text": [
      "[I 2025-06-12 18:35:18,587] A new study created in memory with name: no-name-4e989fa9-0b74-4b64-a962-26c2f0f3728d\n"
     ]
    },
    {
     "data": {
      "application/vnd.jupyter.widget-view+json": {
       "model_id": "4c2993221da443cc83aecc80e1e26e9a",
       "version_major": 2,
       "version_minor": 0
      },
      "text/plain": [
       "  0%|          | 0/50 [00:00<?, ?it/s]"
      ]
     },
     "metadata": {},
     "output_type": "display_data"
    },
    {
     "name": "stderr",
     "output_type": "stream",
     "text": [
      "2025/06/12 18:35:37 WARNING mlflow.models.model: `artifact_path` is deprecated. Please use `name` instead.\n",
      "2025/06/12 18:35:37 WARNING mlflow.utils.requirements_utils: Found torch version (2.8.0a0+5228986c39.nv25.5) contains a local version label (+5228986c39.nv25.5). MLflow logged a pip requirement for this package as 'torch==2.8.0a0' without the local version label to make it installable from PyPI. To specify pip requirements containing local version labels, please use `conda_env` or `pip_requirements`.\n",
      "2025/06/12 18:35:42 WARNING mlflow.utils.requirements_utils: Found torch version (2.8.0a0+5228986c39.nv25.5) contains a local version label (+5228986c39.nv25.5). MLflow logged a pip requirement for this package as 'torch==2.8.0a0' without the local version label to make it installable from PyPI. To specify pip requirements containing local version labels, please use `conda_env` or `pip_requirements`.\n",
      "Registered model 'house-prices-regressor' already exists. Creating a new version of this model...\n",
      "Created version '94' of model 'house-prices-regressor'.\n"
     ]
    },
    {
     "name": "stdout",
     "output_type": "stream",
     "text": [
      "[I 2025-06-12 18:35:43,363] Trial 0 finished with value: 0.26429730003397245 and parameters: {'learning_rate': 0.00016167997948068327, 'batch_size': 64, 'weight_decay': 0.00025311386299310787, 'num_hidden_layers': 3, 'n_units_l0': 159, 'dropout_l0': 0.1936479896012706, 'n_units_l1': 234, 'dropout_l1': 0.39566740072844786, 'n_units_l2': 135, 'dropout_l2': 0.11371163278341499}. Best is trial 0 with value: 0.26429730003397245.\n"
     ]
    },
    {
     "name": "stderr",
     "output_type": "stream",
     "text": [
      "2025/06/12 18:35:52 WARNING mlflow.models.model: `artifact_path` is deprecated. Please use `name` instead.\n",
      "2025/06/12 18:35:52 WARNING mlflow.utils.requirements_utils: Found torch version (2.8.0a0+5228986c39.nv25.5) contains a local version label (+5228986c39.nv25.5). MLflow logged a pip requirement for this package as 'torch==2.8.0a0' without the local version label to make it installable from PyPI. To specify pip requirements containing local version labels, please use `conda_env` or `pip_requirements`.\n",
      "2025/06/12 18:35:55 WARNING mlflow.utils.requirements_utils: Found torch version (2.8.0a0+5228986c39.nv25.5) contains a local version label (+5228986c39.nv25.5). MLflow logged a pip requirement for this package as 'torch==2.8.0a0' without the local version label to make it installable from PyPI. To specify pip requirements containing local version labels, please use `conda_env` or `pip_requirements`.\n",
      "Registered model 'house-prices-regressor' already exists. Creating a new version of this model...\n",
      "Created version '95' of model 'house-prices-regressor'.\n"
     ]
    },
    {
     "name": "stdout",
     "output_type": "stream",
     "text": [
      "[I 2025-06-12 18:35:56,297] Trial 1 finished with value: 0.13283715655145256 and parameters: {'learning_rate': 0.0020699164248321653, 'batch_size': 64, 'weight_decay': 0.00010303859534844722, 'num_hidden_layers': 1, 'n_units_l0': 128, 'dropout_l0': 0.3214527863434421}. Best is trial 1 with value: 0.13283715655145256.\n"
     ]
    },
    {
     "name": "stderr",
     "output_type": "stream",
     "text": [
      "2025/06/12 18:36:13 WARNING mlflow.models.model: `artifact_path` is deprecated. Please use `name` instead.\n",
      "2025/06/12 18:36:13 WARNING mlflow.utils.requirements_utils: Found torch version (2.8.0a0+5228986c39.nv25.5) contains a local version label (+5228986c39.nv25.5). MLflow logged a pip requirement for this package as 'torch==2.8.0a0' without the local version label to make it installable from PyPI. To specify pip requirements containing local version labels, please use `conda_env` or `pip_requirements`.\n",
      "2025/06/12 18:36:14 WARNING mlflow.utils.requirements_utils: Found torch version (2.8.0a0+5228986c39.nv25.5) contains a local version label (+5228986c39.nv25.5). MLflow logged a pip requirement for this package as 'torch==2.8.0a0' without the local version label to make it installable from PyPI. To specify pip requirements containing local version labels, please use `conda_env` or `pip_requirements`.\n",
      "Registered model 'house-prices-regressor' already exists. Creating a new version of this model...\n",
      "Created version '96' of model 'house-prices-regressor'.\n"
     ]
    },
    {
     "name": "stdout",
     "output_type": "stream",
     "text": [
      "[I 2025-06-12 18:36:15,367] Trial 2 finished with value: 0.17896941426513932 and parameters: {'learning_rate': 0.0003624663975732223, 'batch_size': 64, 'weight_decay': 0.01883103583844656, 'num_hidden_layers': 3, 'n_units_l0': 170, 'dropout_l0': 0.4794292632705236, 'n_units_l1': 83, 'dropout_l1': 0.49058052347031056, 'n_units_l2': 185, 'dropout_l2': 0.48680833506833854}. Best is trial 1 with value: 0.13283715655145256.\n"
     ]
    },
    {
     "name": "stderr",
     "output_type": "stream",
     "text": [
      "2025/06/12 18:36:32 WARNING mlflow.models.model: `artifact_path` is deprecated. Please use `name` instead.\n",
      "2025/06/12 18:36:32 WARNING mlflow.utils.requirements_utils: Found torch version (2.8.0a0+5228986c39.nv25.5) contains a local version label (+5228986c39.nv25.5). MLflow logged a pip requirement for this package as 'torch==2.8.0a0' without the local version label to make it installable from PyPI. To specify pip requirements containing local version labels, please use `conda_env` or `pip_requirements`.\n",
      "2025/06/12 18:36:35 WARNING mlflow.utils.requirements_utils: Found torch version (2.8.0a0+5228986c39.nv25.5) contains a local version label (+5228986c39.nv25.5). MLflow logged a pip requirement for this package as 'torch==2.8.0a0' without the local version label to make it installable from PyPI. To specify pip requirements containing local version labels, please use `conda_env` or `pip_requirements`.\n",
      "Registered model 'house-prices-regressor' already exists. Creating a new version of this model...\n",
      "Created version '97' of model 'house-prices-regressor'.\n"
     ]
    },
    {
     "name": "stdout",
     "output_type": "stream",
     "text": [
      "[I 2025-06-12 18:36:36,297] Trial 3 finished with value: 0.1642847638065722 and parameters: {'learning_rate': 0.0006192780891780945, 'batch_size': 64, 'weight_decay': 0.0002090263862650102, 'num_hidden_layers': 3, 'n_units_l0': 190, 'dropout_l0': 0.46170597346253883, 'n_units_l1': 106, 'dropout_l1': 0.44150202382621173, 'n_units_l2': 56, 'dropout_l2': 0.37980501173602677}. Best is trial 1 with value: 0.13283715655145256.\n"
     ]
    },
    {
     "name": "stderr",
     "output_type": "stream",
     "text": [
      "2025/06/12 18:36:46 WARNING mlflow.models.model: `artifact_path` is deprecated. Please use `name` instead.\n",
      "2025/06/12 18:36:46 WARNING mlflow.utils.requirements_utils: Found torch version (2.8.0a0+5228986c39.nv25.5) contains a local version label (+5228986c39.nv25.5). MLflow logged a pip requirement for this package as 'torch==2.8.0a0' without the local version label to make it installable from PyPI. To specify pip requirements containing local version labels, please use `conda_env` or `pip_requirements`.\n",
      "2025/06/12 18:36:49 WARNING mlflow.utils.requirements_utils: Found torch version (2.8.0a0+5228986c39.nv25.5) contains a local version label (+5228986c39.nv25.5). MLflow logged a pip requirement for this package as 'torch==2.8.0a0' without the local version label to make it installable from PyPI. To specify pip requirements containing local version labels, please use `conda_env` or `pip_requirements`.\n",
      "Registered model 'house-prices-regressor' already exists. Creating a new version of this model...\n",
      "Created version '98' of model 'house-prices-regressor'.\n"
     ]
    },
    {
     "name": "stdout",
     "output_type": "stream",
     "text": [
      "[I 2025-06-12 18:36:50,320] Trial 4 finished with value: 0.5303646590352459 and parameters: {'learning_rate': 0.00030244639162585116, 'batch_size': 64, 'weight_decay': 0.006232223197579721, 'num_hidden_layers': 1, 'n_units_l0': 255, 'dropout_l0': 0.3901107557967699}. Best is trial 1 with value: 0.13283715655145256.\n"
     ]
    },
    {
     "name": "stderr",
     "output_type": "stream",
     "text": [
      "2025/06/12 18:36:59 WARNING mlflow.models.model: `artifact_path` is deprecated. Please use `name` instead.\n",
      "2025/06/12 18:36:59 WARNING mlflow.utils.requirements_utils: Found torch version (2.8.0a0+5228986c39.nv25.5) contains a local version label (+5228986c39.nv25.5). MLflow logged a pip requirement for this package as 'torch==2.8.0a0' without the local version label to make it installable from PyPI. To specify pip requirements containing local version labels, please use `conda_env` or `pip_requirements`.\n",
      "2025/06/12 18:37:02 WARNING mlflow.utils.requirements_utils: Found torch version (2.8.0a0+5228986c39.nv25.5) contains a local version label (+5228986c39.nv25.5). MLflow logged a pip requirement for this package as 'torch==2.8.0a0' without the local version label to make it installable from PyPI. To specify pip requirements containing local version labels, please use `conda_env` or `pip_requirements`.\n",
      "Registered model 'house-prices-regressor' already exists. Creating a new version of this model...\n",
      "Created version '99' of model 'house-prices-regressor'.\n"
     ]
    },
    {
     "name": "stdout",
     "output_type": "stream",
     "text": [
      "[I 2025-06-12 18:37:02,944] Trial 5 finished with value: 0.18124152286690864 and parameters: {'learning_rate': 0.0020500721742530855, 'batch_size': 128, 'weight_decay': 0.0005030703228086938, 'num_hidden_layers': 2, 'n_units_l0': 32, 'dropout_l0': 0.26889305571716104, 'n_units_l1': 236, 'dropout_l1': 0.12543111003477542}. Best is trial 1 with value: 0.13283715655145256.\n"
     ]
    },
    {
     "name": "stderr",
     "output_type": "stream",
     "text": [
      "2025/06/12 18:37:07 WARNING mlflow.models.model: `artifact_path` is deprecated. Please use `name` instead.\n",
      "2025/06/12 18:37:07 WARNING mlflow.utils.requirements_utils: Found torch version (2.8.0a0+5228986c39.nv25.5) contains a local version label (+5228986c39.nv25.5). MLflow logged a pip requirement for this package as 'torch==2.8.0a0' without the local version label to make it installable from PyPI. To specify pip requirements containing local version labels, please use `conda_env` or `pip_requirements`.\n",
      "2025/06/12 18:37:10 WARNING mlflow.utils.requirements_utils: Found torch version (2.8.0a0+5228986c39.nv25.5) contains a local version label (+5228986c39.nv25.5). MLflow logged a pip requirement for this package as 'torch==2.8.0a0' without the local version label to make it installable from PyPI. To specify pip requirements containing local version labels, please use `conda_env` or `pip_requirements`.\n",
      "Registered model 'house-prices-regressor' already exists. Creating a new version of this model...\n",
      "Created version '100' of model 'house-prices-regressor'.\n"
     ]
    },
    {
     "name": "stdout",
     "output_type": "stream",
     "text": [
      "[I 2025-06-12 18:37:11,128] Trial 6 finished with value: 0.1360034387253882 and parameters: {'learning_rate': 0.00796844636906883, 'batch_size': 256, 'weight_decay': 0.00025112026009388726, 'num_hidden_layers': 1, 'n_units_l0': 93, 'dropout_l0': 0.4347382710621316}. Best is trial 1 with value: 0.13283715655145256.\n"
     ]
    },
    {
     "name": "stderr",
     "output_type": "stream",
     "text": [
      "2025/06/12 18:37:17 WARNING mlflow.models.model: `artifact_path` is deprecated. Please use `name` instead.\n",
      "2025/06/12 18:37:17 WARNING mlflow.utils.requirements_utils: Found torch version (2.8.0a0+5228986c39.nv25.5) contains a local version label (+5228986c39.nv25.5). MLflow logged a pip requirement for this package as 'torch==2.8.0a0' without the local version label to make it installable from PyPI. To specify pip requirements containing local version labels, please use `conda_env` or `pip_requirements`.\n",
      "2025/06/12 18:37:20 WARNING mlflow.utils.requirements_utils: Found torch version (2.8.0a0+5228986c39.nv25.5) contains a local version label (+5228986c39.nv25.5). MLflow logged a pip requirement for this package as 'torch==2.8.0a0' without the local version label to make it installable from PyPI. To specify pip requirements containing local version labels, please use `conda_env` or `pip_requirements`.\n",
      "Registered model 'house-prices-regressor' already exists. Creating a new version of this model...\n",
      "Created version '101' of model 'house-prices-regressor'.\n"
     ]
    },
    {
     "name": "stdout",
     "output_type": "stream",
     "text": [
      "[I 2025-06-12 18:37:21,094] Trial 7 finished with value: 0.14334710289577302 and parameters: {'learning_rate': 0.0044657670232085885, 'batch_size': 128, 'weight_decay': 1.1976205726578732e-05, 'num_hidden_layers': 2, 'n_units_l0': 48, 'dropout_l0': 0.44510152258474156, 'n_units_l1': 122, 'dropout_l1': 0.33365432973800935}. Best is trial 1 with value: 0.13283715655145256.\n"
     ]
    },
    {
     "name": "stderr",
     "output_type": "stream",
     "text": [
      "2025/06/12 18:37:26 WARNING mlflow.models.model: `artifact_path` is deprecated. Please use `name` instead.\n",
      "2025/06/12 18:37:26 WARNING mlflow.utils.requirements_utils: Found torch version (2.8.0a0+5228986c39.nv25.5) contains a local version label (+5228986c39.nv25.5). MLflow logged a pip requirement for this package as 'torch==2.8.0a0' without the local version label to make it installable from PyPI. To specify pip requirements containing local version labels, please use `conda_env` or `pip_requirements`.\n",
      "2025/06/12 18:37:30 WARNING mlflow.utils.requirements_utils: Found torch version (2.8.0a0+5228986c39.nv25.5) contains a local version label (+5228986c39.nv25.5). MLflow logged a pip requirement for this package as 'torch==2.8.0a0' without the local version label to make it installable from PyPI. To specify pip requirements containing local version labels, please use `conda_env` or `pip_requirements`.\n",
      "Registered model 'house-prices-regressor' already exists. Creating a new version of this model...\n",
      "Created version '102' of model 'house-prices-regressor'.\n"
     ]
    },
    {
     "name": "stdout",
     "output_type": "stream",
     "text": [
      "[I 2025-06-12 18:37:30,666] Trial 8 finished with value: 0.17828130073950127 and parameters: {'learning_rate': 0.002207510440099851, 'batch_size': 256, 'weight_decay': 0.014853602457066547, 'num_hidden_layers': 3, 'n_units_l0': 148, 'dropout_l0': 0.4563415566767586, 'n_units_l1': 52, 'dropout_l1': 0.4900367825239548, 'n_units_l2': 63, 'dropout_l2': 0.19810156081464714}. Best is trial 1 with value: 0.13283715655145256.\n"
     ]
    },
    {
     "name": "stderr",
     "output_type": "stream",
     "text": [
      "2025/06/12 18:37:42 WARNING mlflow.models.model: `artifact_path` is deprecated. Please use `name` instead.\n",
      "2025/06/12 18:37:42 WARNING mlflow.utils.requirements_utils: Found torch version (2.8.0a0+5228986c39.nv25.5) contains a local version label (+5228986c39.nv25.5). MLflow logged a pip requirement for this package as 'torch==2.8.0a0' without the local version label to make it installable from PyPI. To specify pip requirements containing local version labels, please use `conda_env` or `pip_requirements`.\n",
      "2025/06/12 18:37:45 WARNING mlflow.utils.requirements_utils: Found torch version (2.8.0a0+5228986c39.nv25.5) contains a local version label (+5228986c39.nv25.5). MLflow logged a pip requirement for this package as 'torch==2.8.0a0' without the local version label to make it installable from PyPI. To specify pip requirements containing local version labels, please use `conda_env` or `pip_requirements`.\n",
      "Registered model 'house-prices-regressor' already exists. Creating a new version of this model...\n",
      "Created version '103' of model 'house-prices-regressor'.\n"
     ]
    },
    {
     "name": "stdout",
     "output_type": "stream",
     "text": [
      "[I 2025-06-12 18:37:45,922] Trial 9 finished with value: 0.137615830969351 and parameters: {'learning_rate': 0.0021580191252168588, 'batch_size': 64, 'weight_decay': 0.0011599736550770886, 'num_hidden_layers': 2, 'n_units_l0': 64, 'dropout_l0': 0.17860843549998098, 'n_units_l1': 64, 'dropout_l1': 0.11989183924099961}. Best is trial 1 with value: 0.13283715655145256.\n"
     ]
    },
    {
     "name": "stderr",
     "output_type": "stream",
     "text": [
      "2025/06/12 18:37:52 WARNING mlflow.models.model: `artifact_path` is deprecated. Please use `name` instead.\n",
      "2025/06/12 18:37:52 WARNING mlflow.utils.requirements_utils: Found torch version (2.8.0a0+5228986c39.nv25.5) contains a local version label (+5228986c39.nv25.5). MLflow logged a pip requirement for this package as 'torch==2.8.0a0' without the local version label to make it installable from PyPI. To specify pip requirements containing local version labels, please use `conda_env` or `pip_requirements`.\n",
      "2025/06/12 18:37:56 WARNING mlflow.utils.requirements_utils: Found torch version (2.8.0a0+5228986c39.nv25.5) contains a local version label (+5228986c39.nv25.5). MLflow logged a pip requirement for this package as 'torch==2.8.0a0' without the local version label to make it installable from PyPI. To specify pip requirements containing local version labels, please use `conda_env` or `pip_requirements`.\n",
      "Registered model 'house-prices-regressor' already exists. Creating a new version of this model...\n",
      "Created version '104' of model 'house-prices-regressor'.\n"
     ]
    },
    {
     "name": "stdout",
     "output_type": "stream",
     "text": [
      "[I 2025-06-12 18:37:56,614] Trial 10 finished with value: 0.508572283179536 and parameters: {'learning_rate': 0.0008253800906481013, 'batch_size': 128, 'weight_decay': 1.8121619129849054e-05, 'num_hidden_layers': 1, 'n_units_l0': 103, 'dropout_l0': 0.32641956484099544}. Best is trial 1 with value: 0.13283715655145256.\n"
     ]
    },
    {
     "name": "stderr",
     "output_type": "stream",
     "text": [
      "2025/06/12 18:38:01 WARNING mlflow.models.model: `artifact_path` is deprecated. Please use `name` instead.\n",
      "2025/06/12 18:38:01 WARNING mlflow.utils.requirements_utils: Found torch version (2.8.0a0+5228986c39.nv25.5) contains a local version label (+5228986c39.nv25.5). MLflow logged a pip requirement for this package as 'torch==2.8.0a0' without the local version label to make it installable from PyPI. To specify pip requirements containing local version labels, please use `conda_env` or `pip_requirements`.\n",
      "2025/06/12 18:38:04 WARNING mlflow.utils.requirements_utils: Found torch version (2.8.0a0+5228986c39.nv25.5) contains a local version label (+5228986c39.nv25.5). MLflow logged a pip requirement for this package as 'torch==2.8.0a0' without the local version label to make it installable from PyPI. To specify pip requirements containing local version labels, please use `conda_env` or `pip_requirements`.\n",
      "Registered model 'house-prices-regressor' already exists. Creating a new version of this model...\n",
      "Created version '105' of model 'house-prices-regressor'.\n"
     ]
    },
    {
     "name": "stdout",
     "output_type": "stream",
     "text": [
      "[I 2025-06-12 18:38:05,023] Trial 11 finished with value: 0.13212167711034892 and parameters: {'learning_rate': 0.007003587166401299, 'batch_size': 256, 'weight_decay': 6.473687718882754e-05, 'num_hidden_layers': 1, 'n_units_l0': 97, 'dropout_l0': 0.3677416108344272}. Best is trial 11 with value: 0.13212167711034892.\n"
     ]
    },
    {
     "name": "stderr",
     "output_type": "stream",
     "text": [
      "2025/06/12 18:38:07 WARNING mlflow.models.model: `artifact_path` is deprecated. Please use `name` instead.\n",
      "2025/06/12 18:38:07 WARNING mlflow.utils.requirements_utils: Found torch version (2.8.0a0+5228986c39.nv25.5) contains a local version label (+5228986c39.nv25.5). MLflow logged a pip requirement for this package as 'torch==2.8.0a0' without the local version label to make it installable from PyPI. To specify pip requirements containing local version labels, please use `conda_env` or `pip_requirements`.\n",
      "2025/06/12 18:38:10 WARNING mlflow.utils.requirements_utils: Found torch version (2.8.0a0+5228986c39.nv25.5) contains a local version label (+5228986c39.nv25.5). MLflow logged a pip requirement for this package as 'torch==2.8.0a0' without the local version label to make it installable from PyPI. To specify pip requirements containing local version labels, please use `conda_env` or `pip_requirements`.\n",
      "Registered model 'house-prices-regressor' already exists. Creating a new version of this model...\n",
      "Created version '106' of model 'house-prices-regressor'.\n"
     ]
    },
    {
     "name": "stdout",
     "output_type": "stream",
     "text": [
      "[I 2025-06-12 18:38:11,187] Trial 12 finished with value: 0.13677634530272378 and parameters: {'learning_rate': 0.00967165434744281, 'batch_size': 256, 'weight_decay': 5.856669679143173e-05, 'num_hidden_layers': 1, 'n_units_l0': 116, 'dropout_l0': 0.3280188096628852}. Best is trial 11 with value: 0.13212167711034892.\n"
     ]
    },
    {
     "name": "stderr",
     "output_type": "stream",
     "text": [
      "2025/06/12 18:38:15 WARNING mlflow.models.model: `artifact_path` is deprecated. Please use `name` instead.\n",
      "2025/06/12 18:38:15 WARNING mlflow.utils.requirements_utils: Found torch version (2.8.0a0+5228986c39.nv25.5) contains a local version label (+5228986c39.nv25.5). MLflow logged a pip requirement for this package as 'torch==2.8.0a0' without the local version label to make it installable from PyPI. To specify pip requirements containing local version labels, please use `conda_env` or `pip_requirements`.\n",
      "2025/06/12 18:38:19 WARNING mlflow.utils.requirements_utils: Found torch version (2.8.0a0+5228986c39.nv25.5) contains a local version label (+5228986c39.nv25.5). MLflow logged a pip requirement for this package as 'torch==2.8.0a0' without the local version label to make it installable from PyPI. To specify pip requirements containing local version labels, please use `conda_env` or `pip_requirements`.\n",
      "Registered model 'house-prices-regressor' already exists. Creating a new version of this model...\n",
      "Created version '107' of model 'house-prices-regressor'.\n"
     ]
    },
    {
     "name": "stdout",
     "output_type": "stream",
     "text": [
      "[I 2025-06-12 18:38:19,749] Trial 13 finished with value: 0.14142153995126136 and parameters: {'learning_rate': 0.004478759368451813, 'batch_size': 256, 'weight_decay': 5.5377812299259013e-05, 'num_hidden_layers': 1, 'n_units_l0': 67, 'dropout_l0': 0.26535893526337084}. Best is trial 11 with value: 0.13212167711034892.\n"
     ]
    },
    {
     "name": "stderr",
     "output_type": "stream",
     "text": [
      "2025/06/12 18:38:24 WARNING mlflow.models.model: `artifact_path` is deprecated. Please use `name` instead.\n",
      "2025/06/12 18:38:24 WARNING mlflow.utils.requirements_utils: Found torch version (2.8.0a0+5228986c39.nv25.5) contains a local version label (+5228986c39.nv25.5). MLflow logged a pip requirement for this package as 'torch==2.8.0a0' without the local version label to make it installable from PyPI. To specify pip requirements containing local version labels, please use `conda_env` or `pip_requirements`.\n",
      "2025/06/12 18:38:28 WARNING mlflow.utils.requirements_utils: Found torch version (2.8.0a0+5228986c39.nv25.5) contains a local version label (+5228986c39.nv25.5). MLflow logged a pip requirement for this package as 'torch==2.8.0a0' without the local version label to make it installable from PyPI. To specify pip requirements containing local version labels, please use `conda_env` or `pip_requirements`.\n",
      "Registered model 'house-prices-regressor' already exists. Creating a new version of this model...\n",
      "Created version '108' of model 'house-prices-regressor'.\n"
     ]
    },
    {
     "name": "stdout",
     "output_type": "stream",
     "text": [
      "[I 2025-06-12 18:38:28,702] Trial 14 finished with value: 0.13601627579710324 and parameters: {'learning_rate': 0.003658312175008161, 'batch_size': 256, 'weight_decay': 0.0021328728885918686, 'num_hidden_layers': 1, 'n_units_l0': 72, 'dropout_l0': 0.3642502223386936}. Best is trial 11 with value: 0.13212167711034892.\n"
     ]
    },
    {
     "name": "stderr",
     "output_type": "stream",
     "text": [
      "2025/06/12 18:38:40 WARNING mlflow.models.model: `artifact_path` is deprecated. Please use `name` instead.\n",
      "2025/06/12 18:38:40 WARNING mlflow.utils.requirements_utils: Found torch version (2.8.0a0+5228986c39.nv25.5) contains a local version label (+5228986c39.nv25.5). MLflow logged a pip requirement for this package as 'torch==2.8.0a0' without the local version label to make it installable from PyPI. To specify pip requirements containing local version labels, please use `conda_env` or `pip_requirements`.\n",
      "2025/06/12 18:38:43 WARNING mlflow.utils.requirements_utils: Found torch version (2.8.0a0+5228986c39.nv25.5) contains a local version label (+5228986c39.nv25.5). MLflow logged a pip requirement for this package as 'torch==2.8.0a0' without the local version label to make it installable from PyPI. To specify pip requirements containing local version labels, please use `conda_env` or `pip_requirements`.\n",
      "Registered model 'house-prices-regressor' already exists. Creating a new version of this model...\n",
      "Created version '109' of model 'house-prices-regressor'.\n"
     ]
    },
    {
     "name": "stdout",
     "output_type": "stream",
     "text": [
      "[I 2025-06-12 18:38:44,440] Trial 15 finished with value: 0.13355420255591882 and parameters: {'learning_rate': 0.0011655191360244812, 'batch_size': 64, 'weight_decay': 0.09738168556182975, 'num_hidden_layers': 2, 'n_units_l0': 122, 'dropout_l0': 0.2358693797415256, 'n_units_l1': 32, 'dropout_l1': 0.21964201815457066}. Best is trial 11 with value: 0.13212167711034892.\n"
     ]
    },
    {
     "name": "stderr",
     "output_type": "stream",
     "text": [
      "2025/06/12 18:38:49 WARNING mlflow.models.model: `artifact_path` is deprecated. Please use `name` instead.\n",
      "2025/06/12 18:38:49 WARNING mlflow.utils.requirements_utils: Found torch version (2.8.0a0+5228986c39.nv25.5) contains a local version label (+5228986c39.nv25.5). MLflow logged a pip requirement for this package as 'torch==2.8.0a0' without the local version label to make it installable from PyPI. To specify pip requirements containing local version labels, please use `conda_env` or `pip_requirements`.\n",
      "2025/06/12 18:38:52 WARNING mlflow.utils.requirements_utils: Found torch version (2.8.0a0+5228986c39.nv25.5) contains a local version label (+5228986c39.nv25.5). MLflow logged a pip requirement for this package as 'torch==2.8.0a0' without the local version label to make it installable from PyPI. To specify pip requirements containing local version labels, please use `conda_env` or `pip_requirements`.\n",
      "Registered model 'house-prices-regressor' already exists. Creating a new version of this model...\n",
      "Created version '110' of model 'house-prices-regressor'.\n"
     ]
    },
    {
     "name": "stdout",
     "output_type": "stream",
     "text": [
      "[I 2025-06-12 18:38:53,226] Trial 16 finished with value: 1.081854736666537 and parameters: {'learning_rate': 0.0013934938507363394, 'batch_size': 256, 'weight_decay': 7.160803837167428e-05, 'num_hidden_layers': 1, 'n_units_l0': 79, 'dropout_l0': 0.10303567023581742}. Best is trial 11 with value: 0.13212167711034892.\n"
     ]
    },
    {
     "name": "stderr",
     "output_type": "stream",
     "text": [
      "2025/06/12 18:39:04 WARNING mlflow.models.model: `artifact_path` is deprecated. Please use `name` instead.\n",
      "2025/06/12 18:39:04 WARNING mlflow.utils.requirements_utils: Found torch version (2.8.0a0+5228986c39.nv25.5) contains a local version label (+5228986c39.nv25.5). MLflow logged a pip requirement for this package as 'torch==2.8.0a0' without the local version label to make it installable from PyPI. To specify pip requirements containing local version labels, please use `conda_env` or `pip_requirements`.\n",
      "2025/06/12 18:39:07 WARNING mlflow.utils.requirements_utils: Found torch version (2.8.0a0+5228986c39.nv25.5) contains a local version label (+5228986c39.nv25.5). MLflow logged a pip requirement for this package as 'torch==2.8.0a0' without the local version label to make it installable from PyPI. To specify pip requirements containing local version labels, please use `conda_env` or `pip_requirements`.\n",
      "Registered model 'house-prices-regressor' already exists. Creating a new version of this model...\n",
      "Created version '111' of model 'house-prices-regressor'.\n"
     ]
    },
    {
     "name": "stdout",
     "output_type": "stream",
     "text": [
      "[I 2025-06-12 18:39:08,056] Trial 17 finished with value: 0.1346587835262487 and parameters: {'learning_rate': 0.005620246634360275, 'batch_size': 64, 'weight_decay': 2.9817101423605418e-05, 'num_hidden_layers': 2, 'n_units_l0': 228, 'dropout_l0': 0.38833498029249025, 'n_units_l1': 158, 'dropout_l1': 0.26057254779806555}. Best is trial 11 with value: 0.13212167711034892.\n"
     ]
    },
    {
     "name": "stderr",
     "output_type": "stream",
     "text": [
      "2025/06/12 18:39:13 WARNING mlflow.models.model: `artifact_path` is deprecated. Please use `name` instead.\n",
      "2025/06/12 18:39:13 WARNING mlflow.utils.requirements_utils: Found torch version (2.8.0a0+5228986c39.nv25.5) contains a local version label (+5228986c39.nv25.5). MLflow logged a pip requirement for this package as 'torch==2.8.0a0' without the local version label to make it installable from PyPI. To specify pip requirements containing local version labels, please use `conda_env` or `pip_requirements`.\n",
      "2025/06/12 18:39:16 WARNING mlflow.utils.requirements_utils: Found torch version (2.8.0a0+5228986c39.nv25.5) contains a local version label (+5228986c39.nv25.5). MLflow logged a pip requirement for this package as 'torch==2.8.0a0' without the local version label to make it installable from PyPI. To specify pip requirements containing local version labels, please use `conda_env` or `pip_requirements`.\n",
      "Registered model 'house-prices-regressor' already exists. Creating a new version of this model...\n",
      "Created version '112' of model 'house-prices-regressor'.\n"
     ]
    },
    {
     "name": "stdout",
     "output_type": "stream",
     "text": [
      "[I 2025-06-12 18:39:17,011] Trial 18 finished with value: 0.15962143236181878 and parameters: {'learning_rate': 0.0029783592606886676, 'batch_size': 256, 'weight_decay': 0.00011556436307812053, 'num_hidden_layers': 1, 'n_units_l0': 54, 'dropout_l0': 0.3466080755897429}. Best is trial 11 with value: 0.13212167711034892.\n"
     ]
    },
    {
     "name": "stderr",
     "output_type": "stream",
     "text": [
      "2025/06/12 18:39:26 WARNING mlflow.models.model: `artifact_path` is deprecated. Please use `name` instead.\n",
      "2025/06/12 18:39:26 WARNING mlflow.utils.requirements_utils: Found torch version (2.8.0a0+5228986c39.nv25.5) contains a local version label (+5228986c39.nv25.5). MLflow logged a pip requirement for this package as 'torch==2.8.0a0' without the local version label to make it installable from PyPI. To specify pip requirements containing local version labels, please use `conda_env` or `pip_requirements`.\n",
      "2025/06/12 18:39:29 WARNING mlflow.utils.requirements_utils: Found torch version (2.8.0a0+5228986c39.nv25.5) contains a local version label (+5228986c39.nv25.5). MLflow logged a pip requirement for this package as 'torch==2.8.0a0' without the local version label to make it installable from PyPI. To specify pip requirements containing local version labels, please use `conda_env` or `pip_requirements`.\n",
      "Registered model 'house-prices-regressor' already exists. Creating a new version of this model...\n",
      "Created version '113' of model 'house-prices-regressor'.\n"
     ]
    },
    {
     "name": "stdout",
     "output_type": "stream",
     "text": [
      "[I 2025-06-12 18:39:30,405] Trial 19 finished with value: 0.12707602011330213 and parameters: {'learning_rate': 0.007011995493761581, 'batch_size': 128, 'weight_decay': 0.0011328884544234725, 'num_hidden_layers': 2, 'n_units_l0': 130, 'dropout_l0': 0.27900335448210145, 'n_units_l1': 32, 'dropout_l1': 0.20358594121873524}. Best is trial 19 with value: 0.12707602011330213.\n"
     ]
    },
    {
     "name": "stderr",
     "output_type": "stream",
     "text": [
      "2025/06/12 18:39:36 WARNING mlflow.models.model: `artifact_path` is deprecated. Please use `name` instead.\n",
      "2025/06/12 18:39:36 WARNING mlflow.utils.requirements_utils: Found torch version (2.8.0a0+5228986c39.nv25.5) contains a local version label (+5228986c39.nv25.5). MLflow logged a pip requirement for this package as 'torch==2.8.0a0' without the local version label to make it installable from PyPI. To specify pip requirements containing local version labels, please use `conda_env` or `pip_requirements`.\n",
      "2025/06/12 18:39:40 WARNING mlflow.utils.requirements_utils: Found torch version (2.8.0a0+5228986c39.nv25.5) contains a local version label (+5228986c39.nv25.5). MLflow logged a pip requirement for this package as 'torch==2.8.0a0' without the local version label to make it installable from PyPI. To specify pip requirements containing local version labels, please use `conda_env` or `pip_requirements`.\n",
      "Registered model 'house-prices-regressor' already exists. Creating a new version of this model...\n",
      "Created version '114' of model 'house-prices-regressor'.\n"
     ]
    },
    {
     "name": "stdout",
     "output_type": "stream",
     "text": [
      "[I 2025-06-12 18:39:40,921] Trial 20 finished with value: 0.12729287615647117 and parameters: {'learning_rate': 0.006409747933222583, 'batch_size': 128, 'weight_decay': 0.002267299187450962, 'num_hidden_layers': 2, 'n_units_l0': 92, 'dropout_l0': 0.28740255650480173, 'n_units_l1': 36, 'dropout_l1': 0.19472474871227308}. Best is trial 19 with value: 0.12707602011330213.\n"
     ]
    },
    {
     "name": "stderr",
     "output_type": "stream",
     "text": [
      "2025/06/12 18:39:48 WARNING mlflow.models.model: `artifact_path` is deprecated. Please use `name` instead.\n",
      "2025/06/12 18:39:48 WARNING mlflow.utils.requirements_utils: Found torch version (2.8.0a0+5228986c39.nv25.5) contains a local version label (+5228986c39.nv25.5). MLflow logged a pip requirement for this package as 'torch==2.8.0a0' without the local version label to make it installable from PyPI. To specify pip requirements containing local version labels, please use `conda_env` or `pip_requirements`.\n",
      "2025/06/12 18:39:52 WARNING mlflow.utils.requirements_utils: Found torch version (2.8.0a0+5228986c39.nv25.5) contains a local version label (+5228986c39.nv25.5). MLflow logged a pip requirement for this package as 'torch==2.8.0a0' without the local version label to make it installable from PyPI. To specify pip requirements containing local version labels, please use `conda_env` or `pip_requirements`.\n",
      "Registered model 'house-prices-regressor' already exists. Creating a new version of this model...\n",
      "Created version '115' of model 'house-prices-regressor'.\n"
     ]
    },
    {
     "name": "stdout",
     "output_type": "stream",
     "text": [
      "[I 2025-06-12 18:39:52,848] Trial 21 finished with value: 0.1285695375118736 and parameters: {'learning_rate': 0.006568333742023672, 'batch_size': 128, 'weight_decay': 0.00391053920259546, 'num_hidden_layers': 2, 'n_units_l0': 89, 'dropout_l0': 0.28857330503373746, 'n_units_l1': 34, 'dropout_l1': 0.19978855619565883}. Best is trial 19 with value: 0.12707602011330213.\n"
     ]
    },
    {
     "name": "stderr",
     "output_type": "stream",
     "text": [
      "2025/06/12 18:39:59 WARNING mlflow.models.model: `artifact_path` is deprecated. Please use `name` instead.\n",
      "2025/06/12 18:39:59 WARNING mlflow.utils.requirements_utils: Found torch version (2.8.0a0+5228986c39.nv25.5) contains a local version label (+5228986c39.nv25.5). MLflow logged a pip requirement for this package as 'torch==2.8.0a0' without the local version label to make it installable from PyPI. To specify pip requirements containing local version labels, please use `conda_env` or `pip_requirements`.\n",
      "2025/06/12 18:40:02 WARNING mlflow.utils.requirements_utils: Found torch version (2.8.0a0+5228986c39.nv25.5) contains a local version label (+5228986c39.nv25.5). MLflow logged a pip requirement for this package as 'torch==2.8.0a0' without the local version label to make it installable from PyPI. To specify pip requirements containing local version labels, please use `conda_env` or `pip_requirements`.\n",
      "Registered model 'house-prices-regressor' already exists. Creating a new version of this model...\n",
      "Created version '116' of model 'house-prices-regressor'.\n"
     ]
    },
    {
     "name": "stdout",
     "output_type": "stream",
     "text": [
      "[I 2025-06-12 18:40:03,393] Trial 22 finished with value: 0.12963486071370714 and parameters: {'learning_rate': 0.006014270321264198, 'batch_size': 128, 'weight_decay': 0.003173588944311001, 'num_hidden_layers': 2, 'n_units_l0': 85, 'dropout_l0': 0.2819730791426999, 'n_units_l1': 32, 'dropout_l1': 0.1944751272736065}. Best is trial 19 with value: 0.12707602011330213.\n"
     ]
    },
    {
     "name": "stderr",
     "output_type": "stream",
     "text": [
      "2025/06/12 18:40:12 WARNING mlflow.models.model: `artifact_path` is deprecated. Please use `name` instead.\n",
      "2025/06/12 18:40:12 WARNING mlflow.utils.requirements_utils: Found torch version (2.8.0a0+5228986c39.nv25.5) contains a local version label (+5228986c39.nv25.5). MLflow logged a pip requirement for this package as 'torch==2.8.0a0' without the local version label to make it installable from PyPI. To specify pip requirements containing local version labels, please use `conda_env` or `pip_requirements`.\n",
      "2025/06/12 18:40:15 WARNING mlflow.utils.requirements_utils: Found torch version (2.8.0a0+5228986c39.nv25.5) contains a local version label (+5228986c39.nv25.5). MLflow logged a pip requirement for this package as 'torch==2.8.0a0' without the local version label to make it installable from PyPI. To specify pip requirements containing local version labels, please use `conda_env` or `pip_requirements`.\n",
      "Registered model 'house-prices-regressor' already exists. Creating a new version of this model...\n",
      "Created version '117' of model 'house-prices-regressor'.\n"
     ]
    },
    {
     "name": "stdout",
     "output_type": "stream",
     "text": [
      "[I 2025-06-12 18:40:16,328] Trial 23 finished with value: 0.12738062659014884 and parameters: {'learning_rate': 0.009983859183341924, 'batch_size': 128, 'weight_decay': 0.0008141754456641551, 'num_hidden_layers': 2, 'n_units_l0': 131, 'dropout_l0': 0.22699755541997452, 'n_units_l1': 44, 'dropout_l1': 0.17774843831330459}. Best is trial 19 with value: 0.12707602011330213.\n"
     ]
    },
    {
     "name": "stderr",
     "output_type": "stream",
     "text": [
      "2025/06/12 18:40:25 WARNING mlflow.models.model: `artifact_path` is deprecated. Please use `name` instead.\n",
      "2025/06/12 18:40:25 WARNING mlflow.utils.requirements_utils: Found torch version (2.8.0a0+5228986c39.nv25.5) contains a local version label (+5228986c39.nv25.5). MLflow logged a pip requirement for this package as 'torch==2.8.0a0' without the local version label to make it installable from PyPI. To specify pip requirements containing local version labels, please use `conda_env` or `pip_requirements`.\n",
      "2025/06/12 18:40:26 WARNING mlflow.utils.requirements_utils: Found torch version (2.8.0a0+5228986c39.nv25.5) contains a local version label (+5228986c39.nv25.5). MLflow logged a pip requirement for this package as 'torch==2.8.0a0' without the local version label to make it installable from PyPI. To specify pip requirements containing local version labels, please use `conda_env` or `pip_requirements`.\n",
      "Registered model 'house-prices-regressor' already exists. Creating a new version of this model...\n",
      "Created version '118' of model 'house-prices-regressor'.\n"
     ]
    },
    {
     "name": "stdout",
     "output_type": "stream",
     "text": [
      "[I 2025-06-12 18:40:27,468] Trial 24 finished with value: 0.13160339829022638 and parameters: {'learning_rate': 0.009810722959965238, 'batch_size': 128, 'weight_decay': 0.00082237029312584, 'num_hidden_layers': 2, 'n_units_l0': 134, 'dropout_l0': 0.21931636667266755, 'n_units_l1': 50, 'dropout_l1': 0.16127200189101176}. Best is trial 19 with value: 0.12707602011330213.\n"
     ]
    },
    {
     "name": "stderr",
     "output_type": "stream",
     "text": [
      "2025/06/12 18:40:36 WARNING mlflow.models.model: `artifact_path` is deprecated. Please use `name` instead.\n",
      "2025/06/12 18:40:36 WARNING mlflow.utils.requirements_utils: Found torch version (2.8.0a0+5228986c39.nv25.5) contains a local version label (+5228986c39.nv25.5). MLflow logged a pip requirement for this package as 'torch==2.8.0a0' without the local version label to make it installable from PyPI. To specify pip requirements containing local version labels, please use `conda_env` or `pip_requirements`.\n",
      "2025/06/12 18:40:39 WARNING mlflow.utils.requirements_utils: Found torch version (2.8.0a0+5228986c39.nv25.5) contains a local version label (+5228986c39.nv25.5). MLflow logged a pip requirement for this package as 'torch==2.8.0a0' without the local version label to make it installable from PyPI. To specify pip requirements containing local version labels, please use `conda_env` or `pip_requirements`.\n",
      "Registered model 'house-prices-regressor' already exists. Creating a new version of this model...\n",
      "Created version '119' of model 'house-prices-regressor'.\n"
     ]
    },
    {
     "name": "stdout",
     "output_type": "stream",
     "text": [
      "[I 2025-06-12 18:40:40,409] Trial 25 finished with value: 0.1357428378804533 and parameters: {'learning_rate': 0.00329764635356158, 'batch_size': 128, 'weight_decay': 0.0013901435365380982, 'num_hidden_layers': 2, 'n_units_l0': 192, 'dropout_l0': 0.17300171281090612, 'n_units_l1': 42, 'dropout_l1': 0.27197528106164437}. Best is trial 19 with value: 0.12707602011330213.\n"
     ]
    },
    {
     "name": "stderr",
     "output_type": "stream",
     "text": [
      "2025/06/12 18:40:48 WARNING mlflow.models.model: `artifact_path` is deprecated. Please use `name` instead.\n",
      "2025/06/12 18:40:48 WARNING mlflow.utils.requirements_utils: Found torch version (2.8.0a0+5228986c39.nv25.5) contains a local version label (+5228986c39.nv25.5). MLflow logged a pip requirement for this package as 'torch==2.8.0a0' without the local version label to make it installable from PyPI. To specify pip requirements containing local version labels, please use `conda_env` or `pip_requirements`.\n",
      "2025/06/12 18:40:52 WARNING mlflow.utils.requirements_utils: Found torch version (2.8.0a0+5228986c39.nv25.5) contains a local version label (+5228986c39.nv25.5). MLflow logged a pip requirement for this package as 'torch==2.8.0a0' without the local version label to make it installable from PyPI. To specify pip requirements containing local version labels, please use `conda_env` or `pip_requirements`.\n",
      "Registered model 'house-prices-regressor' already exists. Creating a new version of this model...\n",
      "Created version '120' of model 'house-prices-regressor'.\n"
     ]
    },
    {
     "name": "stdout",
     "output_type": "stream",
     "text": [
      "[I 2025-06-12 18:40:52,970] Trial 26 finished with value: 0.12870991841822968 and parameters: {'learning_rate': 0.005039388002981578, 'batch_size': 128, 'weight_decay': 0.00943759187416351, 'num_hidden_layers': 2, 'n_units_l0': 109, 'dropout_l0': 0.2304952331106823, 'n_units_l1': 43, 'dropout_l1': 0.23685463307616333}. Best is trial 19 with value: 0.12707602011330213.\n"
     ]
    },
    {
     "name": "stderr",
     "output_type": "stream",
     "text": [
      "2025/06/12 18:40:59 WARNING mlflow.models.model: `artifact_path` is deprecated. Please use `name` instead.\n",
      "2025/06/12 18:40:59 WARNING mlflow.utils.requirements_utils: Found torch version (2.8.0a0+5228986c39.nv25.5) contains a local version label (+5228986c39.nv25.5). MLflow logged a pip requirement for this package as 'torch==2.8.0a0' without the local version label to make it installable from PyPI. To specify pip requirements containing local version labels, please use `conda_env` or `pip_requirements`.\n",
      "2025/06/12 18:41:02 WARNING mlflow.utils.requirements_utils: Found torch version (2.8.0a0+5228986c39.nv25.5) contains a local version label (+5228986c39.nv25.5). MLflow logged a pip requirement for this package as 'torch==2.8.0a0' without the local version label to make it installable from PyPI. To specify pip requirements containing local version labels, please use `conda_env` or `pip_requirements`.\n",
      "Registered model 'house-prices-regressor' already exists. Creating a new version of this model...\n",
      "Created version '121' of model 'house-prices-regressor'.\n"
     ]
    },
    {
     "name": "stdout",
     "output_type": "stream",
     "text": [
      "[I 2025-06-12 18:41:03,447] Trial 27 finished with value: 0.12905543863978933 and parameters: {'learning_rate': 0.009807380018719818, 'batch_size': 128, 'weight_decay': 0.0005974861706548852, 'num_hidden_layers': 2, 'n_units_l0': 142, 'dropout_l0': 0.12235920761706331, 'n_units_l1': 70, 'dropout_l1': 0.31775622352290844}. Best is trial 19 with value: 0.12707602011330213.\n"
     ]
    },
    {
     "name": "stderr",
     "output_type": "stream",
     "text": [
      "2025/06/12 18:41:13 WARNING mlflow.models.model: `artifact_path` is deprecated. Please use `name` instead.\n",
      "2025/06/12 18:41:13 WARNING mlflow.utils.requirements_utils: Found torch version (2.8.0a0+5228986c39.nv25.5) contains a local version label (+5228986c39.nv25.5). MLflow logged a pip requirement for this package as 'torch==2.8.0a0' without the local version label to make it installable from PyPI. To specify pip requirements containing local version labels, please use `conda_env` or `pip_requirements`.\n",
      "2025/06/12 18:41:17 WARNING mlflow.utils.requirements_utils: Found torch version (2.8.0a0+5228986c39.nv25.5) contains a local version label (+5228986c39.nv25.5). MLflow logged a pip requirement for this package as 'torch==2.8.0a0' without the local version label to make it installable from PyPI. To specify pip requirements containing local version labels, please use `conda_env` or `pip_requirements`.\n",
      "Registered model 'house-prices-regressor' already exists. Creating a new version of this model...\n",
      "Created version '122' of model 'house-prices-regressor'.\n"
     ]
    },
    {
     "name": "stdout",
     "output_type": "stream",
     "text": [
      "[I 2025-06-12 18:41:17,859] Trial 28 finished with value: 0.1337602779112385 and parameters: {'learning_rate': 0.0031568447509583743, 'batch_size': 128, 'weight_decay': 0.042800968448191826, 'num_hidden_layers': 3, 'n_units_l0': 191, 'dropout_l0': 0.25016168646486237, 'n_units_l1': 43, 'dropout_l1': 0.1610331181383316, 'n_units_l2': 38, 'dropout_l2': 0.31513385275688927}. Best is trial 19 with value: 0.12707602011330213.\n"
     ]
    },
    {
     "name": "stderr",
     "output_type": "stream",
     "text": [
      "2025/06/12 18:41:25 WARNING mlflow.models.model: `artifact_path` is deprecated. Please use `name` instead.\n",
      "2025/06/12 18:41:26 WARNING mlflow.utils.requirements_utils: Found torch version (2.8.0a0+5228986c39.nv25.5) contains a local version label (+5228986c39.nv25.5). MLflow logged a pip requirement for this package as 'torch==2.8.0a0' without the local version label to make it installable from PyPI. To specify pip requirements containing local version labels, please use `conda_env` or `pip_requirements`.\n",
      "2025/06/12 18:41:29 WARNING mlflow.utils.requirements_utils: Found torch version (2.8.0a0+5228986c39.nv25.5) contains a local version label (+5228986c39.nv25.5). MLflow logged a pip requirement for this package as 'torch==2.8.0a0' without the local version label to make it installable from PyPI. To specify pip requirements containing local version labels, please use `conda_env` or `pip_requirements`.\n",
      "Registered model 'house-prices-regressor' already exists. Creating a new version of this model...\n",
      "Created version '123' of model 'house-prices-regressor'.\n"
     ]
    },
    {
     "name": "stdout",
     "output_type": "stream",
     "text": [
      "[I 2025-06-12 18:41:29,994] Trial 29 finished with value: 5.913991339566692 and parameters: {'learning_rate': 0.0001816259906899857, 'batch_size': 128, 'weight_decay': 0.0004223384908228688, 'num_hidden_layers': 3, 'n_units_l0': 166, 'dropout_l0': 0.2039290384700455, 'n_units_l1': 55, 'dropout_l1': 0.16705926328980517, 'n_units_l2': 225, 'dropout_l2': 0.46792181054148757}. Best is trial 19 with value: 0.12707602011330213.\n"
     ]
    },
    {
     "name": "stderr",
     "output_type": "stream",
     "text": [
      "2025/06/12 18:41:38 WARNING mlflow.models.model: `artifact_path` is deprecated. Please use `name` instead.\n",
      "2025/06/12 18:41:38 WARNING mlflow.utils.requirements_utils: Found torch version (2.8.0a0+5228986c39.nv25.5) contains a local version label (+5228986c39.nv25.5). MLflow logged a pip requirement for this package as 'torch==2.8.0a0' without the local version label to make it installable from PyPI. To specify pip requirements containing local version labels, please use `conda_env` or `pip_requirements`.\n",
      "2025/06/12 18:41:42 WARNING mlflow.utils.requirements_utils: Found torch version (2.8.0a0+5228986c39.nv25.5) contains a local version label (+5228986c39.nv25.5). MLflow logged a pip requirement for this package as 'torch==2.8.0a0' without the local version label to make it installable from PyPI. To specify pip requirements containing local version labels, please use `conda_env` or `pip_requirements`.\n",
      "Registered model 'house-prices-regressor' already exists. Creating a new version of this model...\n",
      "Created version '124' of model 'house-prices-regressor'.\n"
     ]
    },
    {
     "name": "stdout",
     "output_type": "stream",
     "text": [
      "[I 2025-06-12 18:41:42,865] Trial 30 finished with value: 0.1297374161610492 and parameters: {'learning_rate': 0.0076557746681477695, 'batch_size': 128, 'weight_decay': 0.002408083506482766, 'num_hidden_layers': 2, 'n_units_l0': 113, 'dropout_l0': 0.1681587203934468, 'n_units_l1': 39, 'dropout_l1': 0.2784854157477266}. Best is trial 19 with value: 0.12707602011330213.\n"
     ]
    },
    {
     "name": "stderr",
     "output_type": "stream",
     "text": [
      "2025/06/12 18:41:50 WARNING mlflow.models.model: `artifact_path` is deprecated. Please use `name` instead.\n",
      "2025/06/12 18:41:50 WARNING mlflow.utils.requirements_utils: Found torch version (2.8.0a0+5228986c39.nv25.5) contains a local version label (+5228986c39.nv25.5). MLflow logged a pip requirement for this package as 'torch==2.8.0a0' without the local version label to make it installable from PyPI. To specify pip requirements containing local version labels, please use `conda_env` or `pip_requirements`.\n",
      "2025/06/12 18:41:52 WARNING mlflow.utils.requirements_utils: Found torch version (2.8.0a0+5228986c39.nv25.5) contains a local version label (+5228986c39.nv25.5). MLflow logged a pip requirement for this package as 'torch==2.8.0a0' without the local version label to make it installable from PyPI. To specify pip requirements containing local version labels, please use `conda_env` or `pip_requirements`.\n",
      "Registered model 'house-prices-regressor' already exists. Creating a new version of this model...\n",
      "Created version '125' of model 'house-prices-regressor'.\n"
     ]
    },
    {
     "name": "stdout",
     "output_type": "stream",
     "text": [
      "[I 2025-06-12 18:41:53,082] Trial 31 finished with value: 0.1283560046091418 and parameters: {'learning_rate': 0.006250670326815311, 'batch_size': 128, 'weight_decay': 0.004248791617782011, 'num_hidden_layers': 2, 'n_units_l0': 88, 'dropout_l0': 0.2966363490532338, 'n_units_l1': 32, 'dropout_l1': 0.2063589544927104}. Best is trial 19 with value: 0.12707602011330213.\n"
     ]
    },
    {
     "name": "stderr",
     "output_type": "stream",
     "text": [
      "2025/06/12 18:42:00 WARNING mlflow.models.model: `artifact_path` is deprecated. Please use `name` instead.\n",
      "2025/06/12 18:42:00 WARNING mlflow.utils.requirements_utils: Found torch version (2.8.0a0+5228986c39.nv25.5) contains a local version label (+5228986c39.nv25.5). MLflow logged a pip requirement for this package as 'torch==2.8.0a0' without the local version label to make it installable from PyPI. To specify pip requirements containing local version labels, please use `conda_env` or `pip_requirements`.\n",
      "2025/06/12 18:42:04 WARNING mlflow.utils.requirements_utils: Found torch version (2.8.0a0+5228986c39.nv25.5) contains a local version label (+5228986c39.nv25.5). MLflow logged a pip requirement for this package as 'torch==2.8.0a0' without the local version label to make it installable from PyPI. To specify pip requirements containing local version labels, please use `conda_env` or `pip_requirements`.\n",
      "Registered model 'house-prices-regressor' already exists. Creating a new version of this model...\n",
      "Created version '126' of model 'house-prices-regressor'.\n"
     ]
    },
    {
     "name": "stdout",
     "output_type": "stream",
     "text": [
      "[I 2025-06-12 18:42:05,025] Trial 32 finished with value: 0.12800309288039993 and parameters: {'learning_rate': 0.004260710013613539, 'batch_size': 128, 'weight_decay': 0.005546403412300497, 'num_hidden_layers': 2, 'n_units_l0': 129, 'dropout_l0': 0.2945297506894602, 'n_units_l1': 37, 'dropout_l1': 0.23668897511384762}. Best is trial 19 with value: 0.12707602011330213.\n"
     ]
    },
    {
     "name": "stderr",
     "output_type": "stream",
     "text": [
      "2025/06/12 18:42:13 WARNING mlflow.models.model: `artifact_path` is deprecated. Please use `name` instead.\n",
      "2025/06/12 18:42:13 WARNING mlflow.utils.requirements_utils: Found torch version (2.8.0a0+5228986c39.nv25.5) contains a local version label (+5228986c39.nv25.5). MLflow logged a pip requirement for this package as 'torch==2.8.0a0' without the local version label to make it installable from PyPI. To specify pip requirements containing local version labels, please use `conda_env` or `pip_requirements`.\n",
      "2025/06/12 18:42:16 WARNING mlflow.utils.requirements_utils: Found torch version (2.8.0a0+5228986c39.nv25.5) contains a local version label (+5228986c39.nv25.5). MLflow logged a pip requirement for this package as 'torch==2.8.0a0' without the local version label to make it installable from PyPI. To specify pip requirements containing local version labels, please use `conda_env` or `pip_requirements`.\n",
      "Registered model 'house-prices-regressor' already exists. Creating a new version of this model...\n",
      "Created version '127' of model 'house-prices-regressor'.\n"
     ]
    },
    {
     "name": "stdout",
     "output_type": "stream",
     "text": [
      "[I 2025-06-12 18:42:17,661] Trial 33 finished with value: 0.13261186503740222 and parameters: {'learning_rate': 0.004298273776958892, 'batch_size': 128, 'weight_decay': 0.0012717165505076835, 'num_hidden_layers': 2, 'n_units_l0': 128, 'dropout_l0': 0.30222312706116544, 'n_units_l1': 41, 'dropout_l1': 0.23818937779254454}. Best is trial 19 with value: 0.12707602011330213.\n"
     ]
    },
    {
     "name": "stderr",
     "output_type": "stream",
     "text": [
      "2025/06/12 18:42:24 WARNING mlflow.models.model: `artifact_path` is deprecated. Please use `name` instead.\n",
      "2025/06/12 18:42:24 WARNING mlflow.utils.requirements_utils: Found torch version (2.8.0a0+5228986c39.nv25.5) contains a local version label (+5228986c39.nv25.5). MLflow logged a pip requirement for this package as 'torch==2.8.0a0' without the local version label to make it installable from PyPI. To specify pip requirements containing local version labels, please use `conda_env` or `pip_requirements`.\n",
      "2025/06/12 18:42:27 WARNING mlflow.utils.requirements_utils: Found torch version (2.8.0a0+5228986c39.nv25.5) contains a local version label (+5228986c39.nv25.5). MLflow logged a pip requirement for this package as 'torch==2.8.0a0' without the local version label to make it installable from PyPI. To specify pip requirements containing local version labels, please use `conda_env` or `pip_requirements`.\n",
      "Registered model 'house-prices-regressor' already exists. Creating a new version of this model...\n",
      "Created version '128' of model 'house-prices-regressor'.\n"
     ]
    },
    {
     "name": "stdout",
     "output_type": "stream",
     "text": [
      "[I 2025-06-12 18:42:28,662] Trial 34 finished with value: 0.13021939701494864 and parameters: {'learning_rate': 0.002650355424728124, 'batch_size': 128, 'weight_decay': 0.008198995437702078, 'num_hidden_layers': 2, 'n_units_l0': 144, 'dropout_l0': 0.25315062552660367, 'n_units_l1': 38, 'dropout_l1': 0.17012894821972654}. Best is trial 19 with value: 0.12707602011330213.\n"
     ]
    },
    {
     "name": "stderr",
     "output_type": "stream",
     "text": [
      "2025/06/12 18:42:38 WARNING mlflow.models.model: `artifact_path` is deprecated. Please use `name` instead.\n",
      "2025/06/12 18:42:38 WARNING mlflow.utils.requirements_utils: Found torch version (2.8.0a0+5228986c39.nv25.5) contains a local version label (+5228986c39.nv25.5). MLflow logged a pip requirement for this package as 'torch==2.8.0a0' without the local version label to make it installable from PyPI. To specify pip requirements containing local version labels, please use `conda_env` or `pip_requirements`.\n",
      "2025/06/12 18:42:42 WARNING mlflow.utils.requirements_utils: Found torch version (2.8.0a0+5228986c39.nv25.5) contains a local version label (+5228986c39.nv25.5). MLflow logged a pip requirement for this package as 'torch==2.8.0a0' without the local version label to make it installable from PyPI. To specify pip requirements containing local version labels, please use `conda_env` or `pip_requirements`.\n",
      "Registered model 'house-prices-regressor' already exists. Creating a new version of this model...\n",
      "Created version '129' of model 'house-prices-regressor'.\n"
     ]
    },
    {
     "name": "stdout",
     "output_type": "stream",
     "text": [
      "[I 2025-06-12 18:42:43,001] Trial 35 finished with value: 0.13487341898707095 and parameters: {'learning_rate': 0.007918475911936005, 'batch_size': 128, 'weight_decay': 0.023145422997978643, 'num_hidden_layers': 3, 'n_units_l0': 158, 'dropout_l0': 0.31109837145986785, 'n_units_l1': 48, 'dropout_l1': 0.1111386250066159, 'n_units_l2': 108, 'dropout_l2': 0.2264806185748739}. Best is trial 19 with value: 0.12707602011330213.\n"
     ]
    },
    {
     "name": "stderr",
     "output_type": "stream",
     "text": [
      "2025/06/12 18:42:49 WARNING mlflow.models.model: `artifact_path` is deprecated. Please use `name` instead.\n",
      "2025/06/12 18:42:49 WARNING mlflow.utils.requirements_utils: Found torch version (2.8.0a0+5228986c39.nv25.5) contains a local version label (+5228986c39.nv25.5). MLflow logged a pip requirement for this package as 'torch==2.8.0a0' without the local version label to make it installable from PyPI. To specify pip requirements containing local version labels, please use `conda_env` or `pip_requirements`.\n",
      "2025/06/12 18:42:52 WARNING mlflow.utils.requirements_utils: Found torch version (2.8.0a0+5228986c39.nv25.5) contains a local version label (+5228986c39.nv25.5). MLflow logged a pip requirement for this package as 'torch==2.8.0a0' without the local version label to make it installable from PyPI. To specify pip requirements containing local version labels, please use `conda_env` or `pip_requirements`.\n",
      "Registered model 'house-prices-regressor' already exists. Creating a new version of this model...\n",
      "Created version '130' of model 'house-prices-regressor'.\n"
     ]
    },
    {
     "name": "stdout",
     "output_type": "stream",
     "text": [
      "[I 2025-06-12 18:42:53,594] Trial 36 finished with value: 0.3411902900458162 and parameters: {'learning_rate': 0.0004580180961752649, 'batch_size': 128, 'weight_decay': 0.0019668279244783207, 'num_hidden_layers': 2, 'n_units_l0': 101, 'dropout_l0': 0.19325119058224413, 'n_units_l1': 57, 'dropout_l1': 0.2441316276629783}. Best is trial 19 with value: 0.12707602011330213.\n"
     ]
    },
    {
     "name": "stderr",
     "output_type": "stream",
     "text": [
      "2025/06/12 18:43:02 WARNING mlflow.models.model: `artifact_path` is deprecated. Please use `name` instead.\n",
      "2025/06/12 18:43:02 WARNING mlflow.utils.requirements_utils: Found torch version (2.8.0a0+5228986c39.nv25.5) contains a local version label (+5228986c39.nv25.5). MLflow logged a pip requirement for this package as 'torch==2.8.0a0' without the local version label to make it installable from PyPI. To specify pip requirements containing local version labels, please use `conda_env` or `pip_requirements`.\n",
      "2025/06/12 18:43:05 WARNING mlflow.utils.requirements_utils: Found torch version (2.8.0a0+5228986c39.nv25.5) contains a local version label (+5228986c39.nv25.5). MLflow logged a pip requirement for this package as 'torch==2.8.0a0' without the local version label to make it installable from PyPI. To specify pip requirements containing local version labels, please use `conda_env` or `pip_requirements`.\n",
      "Registered model 'house-prices-regressor' already exists. Creating a new version of this model...\n",
      "Created version '131' of model 'house-prices-regressor'.\n"
     ]
    },
    {
     "name": "stdout",
     "output_type": "stream",
     "text": [
      "[I 2025-06-12 18:43:06,607] Trial 37 finished with value: 0.16267537258900694 and parameters: {'learning_rate': 0.0014099447674755625, 'batch_size': 128, 'weight_decay': 0.00037714380869444824, 'num_hidden_layers': 2, 'n_units_l0': 181, 'dropout_l0': 0.2653710788966981, 'n_units_l1': 35, 'dropout_l1': 0.18745701304643267}. Best is trial 19 with value: 0.12707602011330213.\n"
     ]
    },
    {
     "name": "stderr",
     "output_type": "stream",
     "text": [
      "2025/06/12 18:43:15 WARNING mlflow.models.model: `artifact_path` is deprecated. Please use `name` instead.\n",
      "2025/06/12 18:43:15 WARNING mlflow.utils.requirements_utils: Found torch version (2.8.0a0+5228986c39.nv25.5) contains a local version label (+5228986c39.nv25.5). MLflow logged a pip requirement for this package as 'torch==2.8.0a0' without the local version label to make it installable from PyPI. To specify pip requirements containing local version labels, please use `conda_env` or `pip_requirements`.\n",
      "2025/06/12 18:43:17 WARNING mlflow.utils.requirements_utils: Found torch version (2.8.0a0+5228986c39.nv25.5) contains a local version label (+5228986c39.nv25.5). MLflow logged a pip requirement for this package as 'torch==2.8.0a0' without the local version label to make it installable from PyPI. To specify pip requirements containing local version labels, please use `conda_env` or `pip_requirements`.\n",
      "Registered model 'house-prices-regressor' already exists. Creating a new version of this model...\n",
      "Created version '132' of model 'house-prices-regressor'.\n"
     ]
    },
    {
     "name": "stdout",
     "output_type": "stream",
     "text": [
      "[I 2025-06-12 18:43:17,957] Trial 38 finished with value: 0.13795555373163146 and parameters: {'learning_rate': 0.003885988395132306, 'batch_size': 128, 'weight_decay': 0.0007285759286391566, 'num_hidden_layers': 2, 'n_units_l0': 126, 'dropout_l0': 0.34112101857091653, 'n_units_l1': 45, 'dropout_l1': 0.14087606219609644}. Best is trial 19 with value: 0.12707602011330213.\n"
     ]
    },
    {
     "name": "stderr",
     "output_type": "stream",
     "text": [
      "2025/06/12 18:43:28 WARNING mlflow.models.model: `artifact_path` is deprecated. Please use `name` instead.\n",
      "2025/06/12 18:43:28 WARNING mlflow.utils.requirements_utils: Found torch version (2.8.0a0+5228986c39.nv25.5) contains a local version label (+5228986c39.nv25.5). MLflow logged a pip requirement for this package as 'torch==2.8.0a0' without the local version label to make it installable from PyPI. To specify pip requirements containing local version labels, please use `conda_env` or `pip_requirements`.\n",
      "2025/06/12 18:43:31 WARNING mlflow.utils.requirements_utils: Found torch version (2.8.0a0+5228986c39.nv25.5) contains a local version label (+5228986c39.nv25.5). MLflow logged a pip requirement for this package as 'torch==2.8.0a0' without the local version label to make it installable from PyPI. To specify pip requirements containing local version labels, please use `conda_env` or `pip_requirements`.\n",
      "Registered model 'house-prices-regressor' already exists. Creating a new version of this model...\n",
      "Created version '133' of model 'house-prices-regressor'.\n"
     ]
    },
    {
     "name": "stdout",
     "output_type": "stream",
     "text": [
      "[I 2025-06-12 18:43:32,619] Trial 39 finished with value: 0.1303750692650645 and parameters: {'learning_rate': 0.007973021991531189, 'batch_size': 128, 'weight_decay': 0.005530007808117699, 'num_hidden_layers': 3, 'n_units_l0': 32, 'dropout_l0': 0.14588470132801967, 'n_units_l1': 37, 'dropout_l1': 0.29340066300723394, 'n_units_l2': 71, 'dropout_l2': 0.10602619120199289}. Best is trial 19 with value: 0.12707602011330213.\n"
     ]
    },
    {
     "name": "stderr",
     "output_type": "stream",
     "text": [
      "2025/06/12 18:43:41 WARNING mlflow.models.model: `artifact_path` is deprecated. Please use `name` instead.\n",
      "2025/06/12 18:43:41 WARNING mlflow.utils.requirements_utils: Found torch version (2.8.0a0+5228986c39.nv25.5) contains a local version label (+5228986c39.nv25.5). MLflow logged a pip requirement for this package as 'torch==2.8.0a0' without the local version label to make it installable from PyPI. To specify pip requirements containing local version labels, please use `conda_env` or `pip_requirements`.\n",
      "2025/06/12 18:43:44 WARNING mlflow.utils.requirements_utils: Found torch version (2.8.0a0+5228986c39.nv25.5) contains a local version label (+5228986c39.nv25.5). MLflow logged a pip requirement for this package as 'torch==2.8.0a0' without the local version label to make it installable from PyPI. To specify pip requirements containing local version labels, please use `conda_env` or `pip_requirements`.\n",
      "Registered model 'house-prices-regressor' already exists. Creating a new version of this model...\n",
      "Created version '134' of model 'house-prices-regressor'.\n"
     ]
    },
    {
     "name": "stdout",
     "output_type": "stream",
     "text": [
      "[I 2025-06-12 18:43:45,461] Trial 40 finished with value: 0.13100520221214138 and parameters: {'learning_rate': 0.0052735368430013516, 'batch_size': 128, 'weight_decay': 0.00014031199618256025, 'num_hidden_layers': 2, 'n_units_l0': 224, 'dropout_l0': 0.21600616454716495, 'n_units_l1': 187, 'dropout_l1': 0.3443560635137153}. Best is trial 19 with value: 0.12707602011330213.\n"
     ]
    },
    {
     "name": "stderr",
     "output_type": "stream",
     "text": [
      "2025/06/12 18:43:51 WARNING mlflow.models.model: `artifact_path` is deprecated. Please use `name` instead.\n",
      "2025/06/12 18:43:51 WARNING mlflow.utils.requirements_utils: Found torch version (2.8.0a0+5228986c39.nv25.5) contains a local version label (+5228986c39.nv25.5). MLflow logged a pip requirement for this package as 'torch==2.8.0a0' without the local version label to make it installable from PyPI. To specify pip requirements containing local version labels, please use `conda_env` or `pip_requirements`.\n",
      "2025/06/12 18:43:54 WARNING mlflow.utils.requirements_utils: Found torch version (2.8.0a0+5228986c39.nv25.5) contains a local version label (+5228986c39.nv25.5). MLflow logged a pip requirement for this package as 'torch==2.8.0a0' without the local version label to make it installable from PyPI. To specify pip requirements containing local version labels, please use `conda_env` or `pip_requirements`.\n",
      "Registered model 'house-prices-regressor' already exists. Creating a new version of this model...\n",
      "Created version '135' of model 'house-prices-regressor'.\n"
     ]
    },
    {
     "name": "stdout",
     "output_type": "stream",
     "text": [
      "[I 2025-06-12 18:43:55,620] Trial 41 finished with value: 0.12666372253541197 and parameters: {'learning_rate': 0.005990872975138827, 'batch_size': 128, 'weight_decay': 0.004876583689765625, 'num_hidden_layers': 2, 'n_units_l0': 79, 'dropout_l0': 0.29342350087894237, 'n_units_l1': 32, 'dropout_l1': 0.2090323496968174}. Best is trial 41 with value: 0.12666372253541197.\n"
     ]
    },
    {
     "name": "stderr",
     "output_type": "stream",
     "text": [
      "2025/06/12 18:44:03 WARNING mlflow.models.model: `artifact_path` is deprecated. Please use `name` instead.\n",
      "2025/06/12 18:44:04 WARNING mlflow.utils.requirements_utils: Found torch version (2.8.0a0+5228986c39.nv25.5) contains a local version label (+5228986c39.nv25.5). MLflow logged a pip requirement for this package as 'torch==2.8.0a0' without the local version label to make it installable from PyPI. To specify pip requirements containing local version labels, please use `conda_env` or `pip_requirements`.\n",
      "2025/06/12 18:44:07 WARNING mlflow.utils.requirements_utils: Found torch version (2.8.0a0+5228986c39.nv25.5) contains a local version label (+5228986c39.nv25.5). MLflow logged a pip requirement for this package as 'torch==2.8.0a0' without the local version label to make it installable from PyPI. To specify pip requirements containing local version labels, please use `conda_env` or `pip_requirements`.\n",
      "Registered model 'house-prices-regressor' already exists. Creating a new version of this model...\n",
      "Created version '136' of model 'house-prices-regressor'.\n"
     ]
    },
    {
     "name": "stdout",
     "output_type": "stream",
     "text": [
      "[I 2025-06-12 18:44:08,098] Trial 42 finished with value: 12.025617620010147 and parameters: {'learning_rate': 0.00010148659864204092, 'batch_size': 128, 'weight_decay': 0.01150853074689418, 'num_hidden_layers': 2, 'n_units_l0': 53, 'dropout_l0': 0.2831928797861387, 'n_units_l1': 38, 'dropout_l1': 0.22110575494891657}. Best is trial 41 with value: 0.12666372253541197.\n"
     ]
    },
    {
     "name": "stderr",
     "output_type": "stream",
     "text": [
      "2025/06/12 18:44:15 WARNING mlflow.models.model: `artifact_path` is deprecated. Please use `name` instead.\n",
      "2025/06/12 18:44:15 WARNING mlflow.utils.requirements_utils: Found torch version (2.8.0a0+5228986c39.nv25.5) contains a local version label (+5228986c39.nv25.5). MLflow logged a pip requirement for this package as 'torch==2.8.0a0' without the local version label to make it installable from PyPI. To specify pip requirements containing local version labels, please use `conda_env` or `pip_requirements`.\n",
      "2025/06/12 18:44:18 WARNING mlflow.utils.requirements_utils: Found torch version (2.8.0a0+5228986c39.nv25.5) contains a local version label (+5228986c39.nv25.5). MLflow logged a pip requirement for this package as 'torch==2.8.0a0' without the local version label to make it installable from PyPI. To specify pip requirements containing local version labels, please use `conda_env` or `pip_requirements`.\n",
      "Registered model 'house-prices-regressor' already exists. Creating a new version of this model...\n",
      "Created version '137' of model 'house-prices-regressor'.\n"
     ]
    },
    {
     "name": "stdout",
     "output_type": "stream",
     "text": [
      "[I 2025-06-12 18:44:19,390] Trial 43 finished with value: 0.13251544087993453 and parameters: {'learning_rate': 0.005181552153474944, 'batch_size': 128, 'weight_decay': 0.025407984045333065, 'num_hidden_layers': 2, 'n_units_l0': 75, 'dropout_l0': 0.24445566500390237, 'n_units_l1': 36, 'dropout_l1': 0.1825522417325588}. Best is trial 41 with value: 0.12666372253541197.\n"
     ]
    },
    {
     "name": "stderr",
     "output_type": "stream",
     "text": [
      "2025/06/12 18:44:34 WARNING mlflow.models.model: `artifact_path` is deprecated. Please use `name` instead.\n",
      "2025/06/12 18:44:34 WARNING mlflow.utils.requirements_utils: Found torch version (2.8.0a0+5228986c39.nv25.5) contains a local version label (+5228986c39.nv25.5). MLflow logged a pip requirement for this package as 'torch==2.8.0a0' without the local version label to make it installable from PyPI. To specify pip requirements containing local version labels, please use `conda_env` or `pip_requirements`.\n",
      "2025/06/12 18:44:38 WARNING mlflow.utils.requirements_utils: Found torch version (2.8.0a0+5228986c39.nv25.5) contains a local version label (+5228986c39.nv25.5). MLflow logged a pip requirement for this package as 'torch==2.8.0a0' without the local version label to make it installable from PyPI. To specify pip requirements containing local version labels, please use `conda_env` or `pip_requirements`.\n",
      "Registered model 'house-prices-regressor' already exists. Creating a new version of this model...\n",
      "Created version '138' of model 'house-prices-regressor'.\n"
     ]
    },
    {
     "name": "stdout",
     "output_type": "stream",
     "text": [
      "[I 2025-06-12 18:44:39,009] Trial 44 finished with value: 0.13400985259660472 and parameters: {'learning_rate': 0.0025329191454652226, 'batch_size': 64, 'weight_decay': 0.0016440747155661154, 'num_hidden_layers': 2, 'n_units_l0': 102, 'dropout_l0': 0.3224908596011723, 'n_units_l1': 83, 'dropout_l1': 0.14322320717529824}. Best is trial 41 with value: 0.12666372253541197.\n"
     ]
    },
    {
     "name": "stderr",
     "output_type": "stream",
     "text": [
      "2025/06/12 18:44:46 WARNING mlflow.models.model: `artifact_path` is deprecated. Please use `name` instead.\n",
      "2025/06/12 18:44:46 WARNING mlflow.utils.requirements_utils: Found torch version (2.8.0a0+5228986c39.nv25.5) contains a local version label (+5228986c39.nv25.5). MLflow logged a pip requirement for this package as 'torch==2.8.0a0' without the local version label to make it installable from PyPI. To specify pip requirements containing local version labels, please use `conda_env` or `pip_requirements`.\n",
      "2025/06/12 18:44:49 WARNING mlflow.utils.requirements_utils: Found torch version (2.8.0a0+5228986c39.nv25.5) contains a local version label (+5228986c39.nv25.5). MLflow logged a pip requirement for this package as 'torch==2.8.0a0' without the local version label to make it installable from PyPI. To specify pip requirements containing local version labels, please use `conda_env` or `pip_requirements`.\n",
      "Registered model 'house-prices-regressor' already exists. Creating a new version of this model...\n",
      "Created version '139' of model 'house-prices-regressor'.\n"
     ]
    },
    {
     "name": "stdout",
     "output_type": "stream",
     "text": [
      "[I 2025-06-12 18:44:50,327] Trial 45 finished with value: 0.13794989923792006 and parameters: {'learning_rate': 0.0016375538517834057, 'batch_size': 128, 'weight_decay': 0.0055891720037929875, 'num_hidden_layers': 2, 'n_units_l0': 65, 'dropout_l0': 0.27213636351024223, 'n_units_l1': 47, 'dropout_l1': 0.21194016595636564}. Best is trial 41 with value: 0.12666372253541197.\n"
     ]
    },
    {
     "name": "stderr",
     "output_type": "stream",
     "text": [
      "2025/06/12 18:44:58 WARNING mlflow.models.model: `artifact_path` is deprecated. Please use `name` instead.\n",
      "2025/06/12 18:44:58 WARNING mlflow.utils.requirements_utils: Found torch version (2.8.0a0+5228986c39.nv25.5) contains a local version label (+5228986c39.nv25.5). MLflow logged a pip requirement for this package as 'torch==2.8.0a0' without the local version label to make it installable from PyPI. To specify pip requirements containing local version labels, please use `conda_env` or `pip_requirements`.\n",
      "2025/06/12 18:45:01 WARNING mlflow.utils.requirements_utils: Found torch version (2.8.0a0+5228986c39.nv25.5) contains a local version label (+5228986c39.nv25.5). MLflow logged a pip requirement for this package as 'torch==2.8.0a0' without the local version label to make it installable from PyPI. To specify pip requirements containing local version labels, please use `conda_env` or `pip_requirements`.\n",
      "Registered model 'house-prices-regressor' already exists. Creating a new version of this model...\n",
      "Created version '140' of model 'house-prices-regressor'.\n"
     ]
    },
    {
     "name": "stdout",
     "output_type": "stream",
     "text": [
      "[I 2025-06-12 18:45:02,356] Trial 46 finished with value: 0.13200326246305338 and parameters: {'learning_rate': 0.008032210459406289, 'batch_size': 128, 'weight_decay': 0.0003053586233221875, 'num_hidden_layers': 2, 'n_units_l0': 83, 'dropout_l0': 0.41117420559423057, 'n_units_l1': 32, 'dropout_l1': 0.24360092939825154}. Best is trial 41 with value: 0.12666372253541197.\n"
     ]
    },
    {
     "name": "stderr",
     "output_type": "stream",
     "text": [
      "2025/06/12 18:45:10 WARNING mlflow.models.model: `artifact_path` is deprecated. Please use `name` instead.\n",
      "2025/06/12 18:45:10 WARNING mlflow.utils.requirements_utils: Found torch version (2.8.0a0+5228986c39.nv25.5) contains a local version label (+5228986c39.nv25.5). MLflow logged a pip requirement for this package as 'torch==2.8.0a0' without the local version label to make it installable from PyPI. To specify pip requirements containing local version labels, please use `conda_env` or `pip_requirements`.\n",
      "2025/06/12 18:45:11 WARNING mlflow.utils.requirements_utils: Found torch version (2.8.0a0+5228986c39.nv25.5) contains a local version label (+5228986c39.nv25.5). MLflow logged a pip requirement for this package as 'torch==2.8.0a0' without the local version label to make it installable from PyPI. To specify pip requirements containing local version labels, please use `conda_env` or `pip_requirements`.\n",
      "Registered model 'house-prices-regressor' already exists. Creating a new version of this model...\n",
      "Created version '141' of model 'house-prices-regressor'.\n"
     ]
    },
    {
     "name": "stdout",
     "output_type": "stream",
     "text": [
      "[I 2025-06-12 18:45:12,470] Trial 47 finished with value: 0.12676121101096596 and parameters: {'learning_rate': 0.004397932188727885, 'batch_size': 128, 'weight_decay': 0.007404953432759068, 'num_hidden_layers': 2, 'n_units_l0': 159, 'dropout_l0': 0.35474580388780685, 'n_units_l1': 112, 'dropout_l1': 0.14422543828537043}. Best is trial 41 with value: 0.12666372253541197.\n"
     ]
    },
    {
     "name": "stderr",
     "output_type": "stream",
     "text": [
      "2025/06/12 18:45:26 WARNING mlflow.models.model: `artifact_path` is deprecated. Please use `name` instead.\n",
      "2025/06/12 18:45:26 WARNING mlflow.utils.requirements_utils: Found torch version (2.8.0a0+5228986c39.nv25.5) contains a local version label (+5228986c39.nv25.5). MLflow logged a pip requirement for this package as 'torch==2.8.0a0' without the local version label to make it installable from PyPI. To specify pip requirements containing local version labels, please use `conda_env` or `pip_requirements`.\n",
      "2025/06/12 18:45:30 WARNING mlflow.utils.requirements_utils: Found torch version (2.8.0a0+5228986c39.nv25.5) contains a local version label (+5228986c39.nv25.5). MLflow logged a pip requirement for this package as 'torch==2.8.0a0' without the local version label to make it installable from PyPI. To specify pip requirements containing local version labels, please use `conda_env` or `pip_requirements`.\n",
      "Registered model 'house-prices-regressor' already exists. Creating a new version of this model...\n",
      "Created version '142' of model 'house-prices-regressor'.\n"
     ]
    },
    {
     "name": "stdout",
     "output_type": "stream",
     "text": [
      "[I 2025-06-12 18:45:31,042] Trial 48 finished with value: 0.1307833560346617 and parameters: {'learning_rate': 0.006929193391242593, 'batch_size': 64, 'weight_decay': 0.0010689935110940424, 'num_hidden_layers': 2, 'n_units_l0': 161, 'dropout_l0': 0.3620066425237005, 'n_units_l1': 126, 'dropout_l1': 0.10090645942587279}. Best is trial 41 with value: 0.12666372253541197.\n"
     ]
    },
    {
     "name": "stderr",
     "output_type": "stream",
     "text": [
      "2025/06/12 18:45:38 WARNING mlflow.models.model: `artifact_path` is deprecated. Please use `name` instead.\n",
      "2025/06/12 18:45:38 WARNING mlflow.utils.requirements_utils: Found torch version (2.8.0a0+5228986c39.nv25.5) contains a local version label (+5228986c39.nv25.5). MLflow logged a pip requirement for this package as 'torch==2.8.0a0' without the local version label to make it installable from PyPI. To specify pip requirements containing local version labels, please use `conda_env` or `pip_requirements`.\n",
      "2025/06/12 18:45:42 WARNING mlflow.utils.requirements_utils: Found torch version (2.8.0a0+5228986c39.nv25.5) contains a local version label (+5228986c39.nv25.5). MLflow logged a pip requirement for this package as 'torch==2.8.0a0' without the local version label to make it installable from PyPI. To specify pip requirements containing local version labels, please use `conda_env` or `pip_requirements`.\n",
      "Registered model 'house-prices-regressor' already exists. Creating a new version of this model...\n",
      "Created version '143' of model 'house-prices-regressor'.\n"
     ]
    },
    {
     "name": "stdout",
     "output_type": "stream",
     "text": [
      "[I 2025-06-12 18:45:42,905] Trial 49 finished with value: 0.24153830604751228 and parameters: {'learning_rate': 0.0007677923666755756, 'batch_size': 128, 'weight_decay': 0.002816463149629236, 'num_hidden_layers': 2, 'n_units_l0': 45, 'dropout_l0': 0.3931512125718742, 'n_units_l1': 99, 'dropout_l1': 0.13756574408861727}. Best is trial 41 with value: 0.12666372253541197.\n",
      "\n",
      "Оптимизация завершена!\n",
      "Количество завершенных экспериментов: 50\n",
      "Лучший эксперимент:\n",
      "  Значение (min val_rmse): 0.1267\n",
      "  Лучшие гиперпараметры: \n",
      "    learning_rate: 0.005990872975138827\n",
      "    batch_size: 128\n",
      "    weight_decay: 0.004876583689765625\n",
      "    num_hidden_layers: 2\n",
      "    n_units_l0: 79\n",
      "    dropout_l0: 0.29342350087894237\n",
      "    n_units_l1: 32\n",
      "    dropout_l1: 0.2090323496968174\n"
     ]
    }
   ],
   "source": [
    "# Устанавливаем имя эксперимента в MLflow\n",
    "mlflow.set_experiment(EXPERIMENT_NAME)\n",
    "\n",
    "# Создаем \"исследование\" Optuna\n",
    "study = optuna.create_study(direction='minimize')\n",
    "\n",
    "# Запускаем оптимизацию\n",
    "# Optuna будет вызывать objective N_TRIALS раз\n",
    "study.optimize(objective, n_trials=N_TRIALS, show_progress_bar=True)\n",
    "\n",
    "# --- Вывод результатов ---\n",
    "print(\"\\nОптимизация завершена!\")\n",
    "print(f\"Количество завершенных экспериментов: {len(study.trials)}\")\n",
    "print(\"Лучший эксперимент:\")\n",
    "best_trial = study.best_trial\n",
    "print(f\"  Значение (min val_rmse): {best_trial.value:.4f}\")\n",
    "print(\"  Лучшие гиперпараметры: \")\n",
    "for key, value in best_trial.params.items():\n",
    "    print(f\"    {key}: {value}\")"
   ]
  },
  {
   "cell_type": "markdown",
   "id": "d4944e82",
   "metadata": {},
   "source": [
    "\n",
    "### Ячейка 9: Обучение финальной модели и создание Submission"
   ]
  },
  {
   "cell_type": "code",
   "execution_count": 9,
   "id": "3a1f7180",
   "metadata": {},
   "outputs": [
    {
     "name": "stdout",
     "output_type": "stream",
     "text": [
      "Обучение финальной модели на лучших параметрах...\n",
      "Загрузка модели из MLflow run_id: 4e08d207ecb24f5d95ab46fe2520bd7d\n"
     ]
    },
    {
     "data": {
      "application/vnd.jupyter.widget-view+json": {
       "model_id": "0a59571d03be4a4c89fad30d8efe2417",
       "version_major": 2,
       "version_minor": 0
      },
      "text/plain": [
       "Downloading artifacts:   0%|          | 0/1 [00:00<?, ?it/s]"
      ]
     },
     "metadata": {},
     "output_type": "display_data"
    },
    {
     "data": {
      "application/vnd.jupyter.widget-view+json": {
       "model_id": "f9b12b219bc84d2e8d09a1496dcb6beb",
       "version_major": 2,
       "version_minor": 0
      },
      "text/plain": [
       "Downloading artifacts:   0%|          | 0/8 [00:00<?, ?it/s]"
      ]
     },
     "metadata": {},
     "output_type": "display_data"
    },
    {
     "name": "stdout",
     "output_type": "stream",
     "text": [
      "\n",
      "Submission файл 'submission_house_prices.csv' успешно создан.\n",
      "Первые 5 строк submission файла:\n",
      "     Id      SalePrice\n",
      "0  1461  114508.132812\n",
      "1  1462  158595.906250\n",
      "2  1463  177283.859375\n",
      "3  1464  191931.093750\n",
      "4  1465  191447.203125\n"
     ]
    }
   ],
   "source": [
    "print(\"Обучение финальной модели на лучших параметрах...\")\n",
    "\n",
    "# --- 1. Получаем лучшие параметры ---\n",
    "best_params = study.best_trial.params\n",
    "# MLflow автоматически находит лучший run в текущем эксперименте\n",
    "best_run = mlflow.search_runs(order_by=['metrics.final_val_rmse ASC']).iloc[0]\n",
    "\n",
    "print(f\"Загрузка модели из MLflow run_id: {best_run.run_id}\")\n",
    "\n",
    "# --- 2. Загружаем лучшую модель напрямую из MLflow ---\n",
    "# Это более надежно, чем переобучать заново\n",
    "best_model_uri = f\"runs:/{best_run.run_id}/model\"\n",
    "final_model = mlflow.pytorch.load_model(best_model_uri).to(DEVICE)\n",
    "\n",
    "# --- 3. Создание предсказаний ---\n",
    "final_model.eval()\n",
    "X_test_tensor = torch.tensor(df_test_proc.values, dtype=torch.float32)\n",
    "test_loader = DataLoader(HousesDataset(X_test_tensor), batch_size=256, shuffle=False)\n",
    "\n",
    "all_predictions = []\n",
    "with torch.no_grad():\n",
    "    for features_batch in test_loader:\n",
    "        features_batch = features_batch.to(DEVICE)\n",
    "        outputs = final_model(features_batch)\n",
    "        predicted_prices = torch.expm1(outputs)\n",
    "        all_predictions.extend(predicted_prices.cpu().numpy().flatten().tolist())\n",
    "\n",
    "# --- 4. Создание файла для отправки ---\n",
    "submission_df = pd.DataFrame({\n",
    "    'Id': df_test_original['Id'],\n",
    "    'SalePrice': all_predictions\n",
    "})\n",
    "submission_df.to_csv(SUBMISSION_FILE, index=False)\n",
    "\n",
    "print(f\"\\nSubmission файл '{SUBMISSION_FILE}' успешно создан.\")\n",
    "print(\"Первые 5 строк submission файла:\")\n",
    "print(submission_df.head())"
   ]
  }
 ],
 "metadata": {
  "kernelspec": {
   "display_name": "Python 3 (ipykernel)",
   "language": "python",
   "name": "python3"
  },
  "language_info": {
   "codemirror_mode": {
    "name": "ipython",
    "version": 3
   },
   "file_extension": ".py",
   "mimetype": "text/x-python",
   "name": "python",
   "nbconvert_exporter": "python",
   "pygments_lexer": "ipython3",
   "version": "3.12.3"
  }
 },
 "nbformat": 4,
 "nbformat_minor": 5
}
